{
  "nbformat": 4,
  "nbformat_minor": 0,
  "metadata": {
    "colab": {
      "provenance": []
    },
    "kernelspec": {
      "name": "python3",
      "display_name": "Python 3"
    },
    "language_info": {
      "name": "python"
    }
  },
  "cells": [
    {
      "cell_type": "code",
      "execution_count": null,
      "metadata": {
        "colab": {
          "base_uri": "https://localhost:8080/"
        },
        "id": "k_S72T4ej5rO",
        "outputId": "2fd14175-2abe-403f-9c8b-fb3239c80a65"
      },
      "outputs": [
        {
          "output_type": "stream",
          "name": "stderr",
          "text": [
            "/usr/local/lib/python3.10/dist-packages/ipykernel/ipkernel.py:283: DeprecationWarning: `should_run_async` will not call `transform_cell` automatically in the future. Please pass the result to `transformed_cell` argument and any exception that happen during thetransform in `preprocessing_exc_tuple` in IPython 7.17 and above.\n",
            "  and should_run_async(code)\n"
          ]
        },
        {
          "output_type": "stream",
          "name": "stdout",
          "text": [
            "Requirement already satisfied: gymnasium in /usr/local/lib/python3.10/dist-packages (0.29.1)\n",
            "Requirement already satisfied: numpy>=1.21.0 in /usr/local/lib/python3.10/dist-packages (from gymnasium) (1.23.5)\n",
            "Requirement already satisfied: cloudpickle>=1.2.0 in /usr/local/lib/python3.10/dist-packages (from gymnasium) (2.2.1)\n",
            "Requirement already satisfied: typing-extensions>=4.3.0 in /usr/local/lib/python3.10/dist-packages (from gymnasium) (4.5.0)\n",
            "Requirement already satisfied: farama-notifications>=0.0.1 in /usr/local/lib/python3.10/dist-packages (from gymnasium) (0.0.4)\n",
            "Requirement already satisfied: gymnasium[accept-rom-license,atari] in /usr/local/lib/python3.10/dist-packages (0.29.1)\n",
            "Requirement already satisfied: numpy>=1.21.0 in /usr/local/lib/python3.10/dist-packages (from gymnasium[accept-rom-license,atari]) (1.23.5)\n",
            "Requirement already satisfied: cloudpickle>=1.2.0 in /usr/local/lib/python3.10/dist-packages (from gymnasium[accept-rom-license,atari]) (2.2.1)\n",
            "Requirement already satisfied: typing-extensions>=4.3.0 in /usr/local/lib/python3.10/dist-packages (from gymnasium[accept-rom-license,atari]) (4.5.0)\n",
            "Requirement already satisfied: farama-notifications>=0.0.1 in /usr/local/lib/python3.10/dist-packages (from gymnasium[accept-rom-license,atari]) (0.0.4)\n",
            "Requirement already satisfied: shimmy[atari]<1.0,>=0.1.0 in /usr/local/lib/python3.10/dist-packages (from gymnasium[accept-rom-license,atari]) (0.2.1)\n",
            "Requirement already satisfied: autorom[accept-rom-license]~=0.4.2 in /usr/local/lib/python3.10/dist-packages (from gymnasium[accept-rom-license,atari]) (0.4.2)\n",
            "Requirement already satisfied: click in /usr/local/lib/python3.10/dist-packages (from autorom[accept-rom-license]~=0.4.2->gymnasium[accept-rom-license,atari]) (8.1.7)\n",
            "Requirement already satisfied: requests in /usr/local/lib/python3.10/dist-packages (from autorom[accept-rom-license]~=0.4.2->gymnasium[accept-rom-license,atari]) (2.31.0)\n",
            "Requirement already satisfied: tqdm in /usr/local/lib/python3.10/dist-packages (from autorom[accept-rom-license]~=0.4.2->gymnasium[accept-rom-license,atari]) (4.66.1)\n",
            "Requirement already satisfied: AutoROM.accept-rom-license in /usr/local/lib/python3.10/dist-packages (from autorom[accept-rom-license]~=0.4.2->gymnasium[accept-rom-license,atari]) (0.6.1)\n",
            "Requirement already satisfied: ale-py~=0.8.1 in /usr/local/lib/python3.10/dist-packages (from shimmy[atari]<1.0,>=0.1.0->gymnasium[accept-rom-license,atari]) (0.8.1)\n",
            "Requirement already satisfied: importlib-resources in /usr/local/lib/python3.10/dist-packages (from ale-py~=0.8.1->shimmy[atari]<1.0,>=0.1.0->gymnasium[accept-rom-license,atari]) (6.1.0)\n",
            "Requirement already satisfied: charset-normalizer<4,>=2 in /usr/local/lib/python3.10/dist-packages (from requests->autorom[accept-rom-license]~=0.4.2->gymnasium[accept-rom-license,atari]) (3.3.2)\n",
            "Requirement already satisfied: idna<4,>=2.5 in /usr/local/lib/python3.10/dist-packages (from requests->autorom[accept-rom-license]~=0.4.2->gymnasium[accept-rom-license,atari]) (3.4)\n",
            "Requirement already satisfied: urllib3<3,>=1.21.1 in /usr/local/lib/python3.10/dist-packages (from requests->autorom[accept-rom-license]~=0.4.2->gymnasium[accept-rom-license,atari]) (2.0.7)\n",
            "Requirement already satisfied: certifi>=2017.4.17 in /usr/local/lib/python3.10/dist-packages (from requests->autorom[accept-rom-license]~=0.4.2->gymnasium[accept-rom-license,atari]) (2023.7.22)\n",
            "Reading package lists... Done\n",
            "Building dependency tree... Done\n",
            "Reading state information... Done\n",
            "swig is already the newest version (4.0.2-1ubuntu1).\n",
            "0 upgraded, 0 newly installed, 0 to remove and 19 not upgraded.\n",
            "Requirement already satisfied: gymnasium[box2d] in /usr/local/lib/python3.10/dist-packages (0.29.1)\n",
            "Requirement already satisfied: numpy>=1.21.0 in /usr/local/lib/python3.10/dist-packages (from gymnasium[box2d]) (1.23.5)\n",
            "Requirement already satisfied: cloudpickle>=1.2.0 in /usr/local/lib/python3.10/dist-packages (from gymnasium[box2d]) (2.2.1)\n",
            "Requirement already satisfied: typing-extensions>=4.3.0 in /usr/local/lib/python3.10/dist-packages (from gymnasium[box2d]) (4.5.0)\n",
            "Requirement already satisfied: farama-notifications>=0.0.1 in /usr/local/lib/python3.10/dist-packages (from gymnasium[box2d]) (0.0.4)\n",
            "Requirement already satisfied: box2d-py==2.3.5 in /usr/local/lib/python3.10/dist-packages (from gymnasium[box2d]) (2.3.5)\n",
            "Requirement already satisfied: pygame>=2.1.3 in /usr/local/lib/python3.10/dist-packages (from gymnasium[box2d]) (2.5.2)\n",
            "Requirement already satisfied: swig==4.* in /usr/local/lib/python3.10/dist-packages (from gymnasium[box2d]) (4.1.1.post0)\n"
          ]
        }
      ],
      "source": [
        "# downloading open ai gymnasium and dedicated environment\n",
        "!pip install gymnasium\n",
        "!pip install 'gymnasium[atari,accept-rom-license]'\n",
        "!apt-get install -y swig\n",
        "!pip install gymnasium[box2d]"
      ]
    },
    {
      "cell_type": "code",
      "source": [
        "# Importing all the neccessary libraries\n",
        "import os\n",
        "import random\n",
        "import torch\n",
        "import numpy as np\n",
        "import torch.nn as neural_net\n",
        "import torch.nn.functional as func\n",
        "import torch.optim as optim\n",
        "import torch.autograd as autograd\n",
        "from torch.autograd import Variable\n",
        "from collections import deque, namedtuple"
      ],
      "metadata": {
        "id": "c5BplgYIstSP"
      },
      "execution_count": null,
      "outputs": []
    },
    {
      "cell_type": "code",
      "source": [
        "# Now building the neural network architecture\n",
        "\n",
        "class Architecture(neural_net.Module):\n",
        "  def __init__(self,state_size,action_space, seed = 42):\n",
        "    super(Architecture,self).__init__()\n",
        "    self.seed = torch.manual_seed(seed)\n",
        "    self.connected_layer1 = neural_net.Linear(state_size,64)\n",
        "    self.connected_layer2 = neural_net.Linear(64,64)\n",
        "    self.connected_layer3 = neural_net.Linear(64,action_space)\n",
        "\n",
        "  def forward(self,state):\n",
        "    x = self.connected_layer1(state)\n",
        "    x = func.relu(x)\n",
        "    x = self.connected_layer2(x)\n",
        "    x = func.relu(x)\n",
        "    return self.connected_layer3(x)"
      ],
      "metadata": {
        "id": "ThdmCcN9tjB4"
      },
      "execution_count": null,
      "outputs": []
    },
    {
      "cell_type": "code",
      "source": [
        "# Now setting up our environment for the lunar lander v2 open ai environment\n",
        "\n",
        "import gymnasium as gym\n",
        "env = gym.make('LunarLander-v2')\n",
        "state_shape = env.observation_space.shape\n",
        "state_size = env.observation_space.shape[0]\n",
        "no_of_actions = env.action_space.n\n",
        "state_shape, state_size, no_of_actions"
      ],
      "metadata": {
        "colab": {
          "base_uri": "https://localhost:8080/"
        },
        "id": "9hoaSGMB0EIE",
        "outputId": "393befd6-f0e7-4a8f-a473-8a48fec90d1e"
      },
      "execution_count": null,
      "outputs": [
        {
          "output_type": "execute_result",
          "data": {
            "text/plain": [
              "((8,), 8, 4)"
            ]
          },
          "metadata": {},
          "execution_count": 40
        }
      ]
    },
    {
      "cell_type": "code",
      "source": [
        "# Now initialising parameters for the neural net architecture\n",
        "lr = 5e-4\n",
        "batch_size = 100\n",
        "gamma = 0.99\n",
        "replay_buffer_size = 100000\n",
        "interpolation = 1e-3 # It is used for sub update for the target network and also called tau"
      ],
      "metadata": {
        "id": "bEnKLOnK08ay"
      },
      "execution_count": null,
      "outputs": []
    },
    {
      "cell_type": "code",
      "source": [
        "# Implementing  agents memory class (Experience replay)\n",
        "class Memory(object):\n",
        "  def __init__(self,capacity):\n",
        "    self.device = torch.device('cuda:0' if torch.cuda.is_available() else 'cpu')\n",
        "    self.capacity = capacity\n",
        "    self.memory = []\n",
        "\n",
        "  def store_events(self,events):\n",
        "    self.memory.append(events)\n",
        "    if len(self.memory) > self.capacity:\n",
        "      del self.memory[0]\n",
        "\n",
        "  def sample_batches(self,batch_size):\n",
        "    experiences = random.sample(self.memory, k = batch_size)\n",
        "    states = torch.from_numpy(np.vstack([e[0] for e in experiences if e is not None])).float().to(self.device)\n",
        "    actions = torch.from_numpy(np.vstack([e[1] for e in experiences if e is not None])).long().to(self.device)\n",
        "    rewards = torch.from_numpy(np.vstack([e[2] for e in experiences if e is not None])).float().to(self.device)\n",
        "    next_states = torch.from_numpy(np.vstack([e[3] for e in experiences if e is not None])).float().to(self.device)\n",
        "    confirmations = torch.from_numpy(np.vstack([e[4] for e in experiences if e is not None]).astype(np.uint8)).float().to(self.device)\n",
        "    return states, actions, rewards, next_states, confirmations\n"
      ],
      "metadata": {
        "id": "E3Z7MR3k8FMh"
      },
      "execution_count": null,
      "outputs": []
    },
    {
      "cell_type": "code",
      "source": [
        "# Creating the lander to prepare for training\n",
        "class Lander():\n",
        "  def __init__(self,state_size,action_size):\n",
        "    self.device = torch.device('cuda:0' if torch.cuda.is_available() else 'cpu')\n",
        "    self.state_size = state_size\n",
        "    self.action_size = action_size\n",
        "    self.local_network = Architecture(state_size,action_size).to(self.device)\n",
        "    self.main_network = Architecture(state_size,action_size).to(self.device)\n",
        "    self.optimizer = optim.Adam(self.local_network.parameters(), lr=lr)\n",
        "    self.memory = Memory(replay_buffer_size)\n",
        "    self.time_step = 0\n",
        "\n",
        "  def step(self, state, action, rewards, next_states, confirmations):\n",
        "    self.memory.store_events((state, action, rewards, next_states, confirmations))\n",
        "    self.time_step = (self.time_step + 1) % 4\n",
        "    if self.time_step == 0:\n",
        "      if len(self.memory.memory) > batch_size:\n",
        "        experiences = self.memory.sample_batches(100)\n",
        "        self.fit(experiences,gamma)\n",
        "\n",
        "  def act(self,states,epsilon = 0.):\n",
        "    state = torch.from_numpy(states).float().unsqueeze(0).to(self.device)\n",
        "    self.local_network.eval()\n",
        "    with torch.no_grad():\n",
        "      action_values = self.local_network(state)\n",
        "    self.local_network.train()\n",
        "    if random.random() > epsilon:\n",
        "      return np.argmax(action_values.cpu().data.numpy())\n",
        "    else:\n",
        "      return random.choice(np.arange(self.action_size))\n",
        "\n",
        "  def fit(self,experiences, gamma):\n",
        "    states, actions, rewards, next_states, confirmations = experiences\n",
        "    q_targets_next = self.main_network(next_states).detach().max(1)[0].unsqueeze(1)\n",
        "    normal_q_targets = rewards + gamma * q_targets_next * (1 - confirmations)\n",
        "    predicted_actions = self.local_network(states).gather(1,actions)\n",
        "    loss = func.mse_loss(normal_q_targets,predicted_actions)\n",
        "    self.optimizer.zero_grad()\n",
        "    loss.backward()\n",
        "    self.optimizer.step()\n",
        "    self.update(self.local_network,self.main_network,interpolation)\n",
        "\n",
        "  def update(self, local, main, interpolation):\n",
        "    for local_parameter, main_parameter in zip(local.parameters(), main.parameters()):\n",
        "      main_parameter.data.copy_(interpolation * local_parameter.data + (1.0 - interpolation) * main_parameter.data)"
      ],
      "metadata": {
        "colab": {
          "base_uri": "https://localhost:8080/"
        },
        "id": "uwMgEMZuAsF1",
        "outputId": "e7594696-e7c8-4f45-cc34-5580d7f6329b"
      },
      "execution_count": null,
      "outputs": [
        {
          "output_type": "stream",
          "name": "stderr",
          "text": [
            "/usr/local/lib/python3.10/dist-packages/ipykernel/ipkernel.py:283: DeprecationWarning: `should_run_async` will not call `transform_cell` automatically in the future. Please pass the result to `transformed_cell` argument and any exception that happen during thetransform in `preprocessing_exc_tuple` in IPython 7.17 and above.\n",
            "  and should_run_async(code)\n"
          ]
        }
      ]
    },
    {
      "cell_type": "code",
      "source": [
        "# initializing our lander\n",
        "lander = Lander(state_size, no_of_actions)"
      ],
      "metadata": {
        "id": "nJEKfl8ccqWN"
      },
      "execution_count": null,
      "outputs": []
    },
    {
      "cell_type": "code",
      "source": [
        "# Training the model\n",
        "total_episodes = 2000\n",
        "tota_timesteps_per_episode = 1000\n",
        "epsilon_starting  = 1.0\n",
        "epsilon_ending  = 0.01\n",
        "epsilon_decay  = 0.995\n",
        "epsilon = epsilon_starting\n",
        "scores_on_100_episodes = deque(maxlen = 100)"
      ],
      "metadata": {
        "id": "I1vAcPPMgtW7"
      },
      "execution_count": null,
      "outputs": []
    },
    {
      "cell_type": "code",
      "source": [
        "for episode in range(1, total_episodes + 1):\n",
        "  state, _ = env.reset()\n",
        "  cumulative_rewards = 0\n",
        "  for time in range(tota_timesteps_per_episode):\n",
        "    action = lander.act(state,epsilon)\n",
        "    next_state, reward, confirmation, _, _ = env.step(action)\n",
        "    lander.step(state,action,reward,next_state,confirmation)\n",
        "    state = next_state\n",
        "    cumulative_rewards += reward\n",
        "    if confirmation:\n",
        "      break\n",
        "  scores_on_100_episodes.append(cumulative_rewards)\n",
        "  epsilon = max(epsilon_ending,epsilon_decay*epsilon)\n",
        "  print('\\rEpisode {}\\tAverage Score: {:.2f}'.format(episode, np.mean(scores_on_100_episodes)), end = \"\")\n",
        "  if episode % 100 == 0:\n",
        "    print('\\rEpisode {}\\tAverage Score: {:.2f}'.format(episode, np.mean(scores_on_100_episodes)))\n",
        "  if np.mean(scores_on_100_episodes) >= 250.0:\n",
        "    print('\\nEnvironment solved in {:d} episodes!\\tAverage Score: {:.2f}'.format(episode, np.mean(scores_on_100_episodes)))\n",
        "    torch.save(lander.local_network.state_dict(), 'parameters_detail.pth')\n",
        "    break\n"
      ],
      "metadata": {
        "colab": {
          "base_uri": "https://localhost:8080/"
        },
        "id": "KmbwFTuOwov2",
        "outputId": "33050241-a363-4954-e030-b4378bef079d"
      },
      "execution_count": null,
      "outputs": [
        {
          "output_type": "stream",
          "name": "stdout",
          "text": [
            "Episode 100\tAverage Score: 196.00\n",
            "Episode 200\tAverage Score: 232.66\n",
            "Episode 300\tAverage Score: 238.58\n",
            "Episode 400\tAverage Score: 248.82\n"
          ]
        }
      ]
    },
    {
      "cell_type": "code",
      "source": [
        "# to show the video\n",
        "import glob\n",
        "import io\n",
        "import base64\n",
        "import imageio\n",
        "from IPython.display import HTML, display\n",
        "from gym.wrappers.monitoring.video_recorder import VideoRecorder\n",
        "\n",
        "def show_video_of_model(lander, env_name):\n",
        "    env = gym.make(env_name, render_mode='rgb_array')\n",
        "    state, _ = env.reset()\n",
        "    done = False\n",
        "    frames = []\n",
        "    while not done:\n",
        "        frame = env.render()\n",
        "        frames.append(frame)\n",
        "        action = lander.act(state)\n",
        "        state, reward, done, _, _ = env.step(action.item())\n",
        "    env.close()\n",
        "    imageio.mimsave('video.mp4', frames, fps=30)\n",
        "\n",
        "show_video_of_model(lander, 'LunarLander-v2')\n",
        "\n",
        "def show_video():\n",
        "    mp4list = glob.glob('*.mp4')\n",
        "    if len(mp4list) > 0:\n",
        "        mp4 = mp4list[0]\n",
        "        video = io.open(mp4, 'r+b').read()\n",
        "        encoded = base64.b64encode(video)\n",
        "        display(HTML(data='''<video alt=\"test\" autoplay\n",
        "                loop controls style=\"height: 400px;\">\n",
        "                <source src=\"data:video/mp4;base64,{0}\" type=\"video/mp4\" />\n",
        "             </video>'''.format(encoded.decode('ascii'))))\n",
        "    else:\n",
        "        print(\"Could not find video\")\n",
        "\n",
        "show_video()"
      ],
      "metadata": {
        "colab": {
          "base_uri": "https://localhost:8080/",
          "height": 459
        },
        "id": "P4WKTQkHzLT3",
        "outputId": "1ab5217b-2b31-40d7-9751-c27093c6ceee"
      },
      "execution_count": null,
      "outputs": [
        {
          "output_type": "stream",
          "name": "stderr",
          "text": [
            "WARNING:imageio_ffmpeg:IMAGEIO FFMPEG_WRITER WARNING: input image is not divisible by macro_block_size=16, resizing from (600, 400) to (608, 400) to ensure video compatibility with most codecs and players. To prevent resizing, make your input image divisible by the macro_block_size or set the macro_block_size to 1 (risking incompatibility).\n"
          ]
        },
        {
          "output_type": "display_data",
          "data": {
            "text/plain": [
              "<IPython.core.display.HTML object>"
            ],
            "text/html": [
              "<video alt=\"test\" autoplay\n",
              "                loop controls style=\"height: 400px;\">\n",
              "                <source src=\"data:video/mp4;base64,AAAAIGZ0eXBpc29tAAACAGlzb21pc28yYXZjMW1wNDEAAAAIZnJlZQAAhqdtZGF0AAACrgYF//+q3EXpvebZSLeWLNgg2SPu73gyNjQgLSBjb3JlIDE1OSByMjk5MSAxNzcxYjU1IC0gSC4yNjQvTVBFRy00IEFWQyBjb2RlYyAtIENvcHlsZWZ0IDIwMDMtMjAxOSAtIGh0dHA6Ly93d3cudmlkZW9sYW4ub3JnL3gyNjQuaHRtbCAtIG9wdGlvbnM6IGNhYmFjPTEgcmVmPTMgZGVibG9jaz0xOjA6MCBhbmFseXNlPTB4MzoweDExMyBtZT1oZXggc3VibWU9NyBwc3k9MSBwc3lfcmQ9MS4wMDowLjAwIG1peGVkX3JlZj0xIG1lX3JhbmdlPTE2IGNocm9tYV9tZT0xIHRyZWxsaXM9MSA4eDhkY3Q9MSBjcW09MCBkZWFkem9uZT0yMSwxMSBmYXN0X3Bza2lwPTEgY2hyb21hX3FwX29mZnNldD0tMiB0aHJlYWRzPTMgbG9va2FoZWFkX3RocmVhZHM9MSBzbGljZWRfdGhyZWFkcz0wIG5yPTAgZGVjaW1hdGU9MSBpbnRlcmxhY2VkPTAgYmx1cmF5X2NvbXBhdD0wIGNvbnN0cmFpbmVkX2ludHJhPTAgYmZyYW1lcz0zIGJfcHlyYW1pZD0yIGJfYWRhcHQ9MSBiX2JpYXM9MCBkaXJlY3Q9MSB3ZWlnaHRiPTEgb3Blbl9nb3A9MCB3ZWlnaHRwPTIga2V5aW50PTI1MCBrZXlpbnRfbWluPTI1IHNjZW5lY3V0PTQwIGludHJhX3JlZnJlc2g9MCByY19sb29rYWhlYWQ9NDAgcmM9Y3JmIG1idHJlZT0xIGNyZj0yMy4wIHFjb21wPTAuNjAgcXBtaW49MCBxcG1heD02OSBxcHN0ZXA9NCBpcF9yYXRpbz0xLjQwIGFxPTE6MS4wMACAAAAHE2WIhAA3//728P4FNlYEUJcRzeidMx+/Fbi6NDe92RHgudxdQGFvAO2breyboxe06JLLLlkr5drkDcZWDI8F52NpF3I5Y2JdSzdaZWMEF7kBfSEX4jzkx9nHmwJxEQwd+Xu2uvTGsQBfN2y5/wHvbyf5mSjodS2HDyjiebaPxVGiNWgzqsPwIoehE6MWAf190IAYGiix9pkJK7ci1QsVvGpmhpjQeu+PaRLvooGuZbTbpUcO4lA9pA+fF0wyDS28RuozoL5IiyjS+SgyptkArsMOa8V17aCL286ybCev7xrOBEqLugEa8LNToAAAAwAAkxsd+wvpM+Bp4/+hJb93QAAewMGn4hlRQRWhzCOD2G8OUbpDi6AvFPB0WUbzRkNPjYgMZmDvbttxhRBOsCvx4mArQvzTaCQUgjBCYnRtdE4wERrtk/5imZP5sKoBwlNBj+mTz9FE3iVKtJotJWJ21OBGvM62WbAbknB8wfWZj64n0ia3xMTGiJ6XOgzrF31avlSAN30ujTLNwHZBF9kk6NKXIzTRVMzqDEUpwyARAUwY/0FVcoOwBw5lSm01T5k2Qcjp9Rj9ntqdijCOZevQNOgn5S5Rf0EQqjmL6txXD4C7aZl3ensivSjDF/LPynXF9qHuA431FzNILmt9LjeVM5NN3ug78yADBDnlVwc5CmT4OwJCzzLS0D252wc1jUcvNpKwYpegi1QYVGsRAgrzuLF9OyaA+wgkecJu9UeqLItya2b/9b2U4mDQASW/3orkdd246sqpNgd2oDtSWK3I5rZhSM2HdXATHPo3+6LnAa+nkhp0R8wnsqKGhz03sKJTpk9tW45AjVd8jmcVER77KxUWw8+S6vPB95ofDVGwJN1k0rrMNnfkfWs2NQ+1Mr0klXjth+U6edC8jt0lW/BmSSy898gkd2dFShXypkmU4EhEuyo3fVOfm+stU6sd6uPlr2jlvTJdrc7PRSlFElVNlcYQtE2212CeFyXkyvxmQewCmeSsV4Ai7tYl3Sm2st/yUGc/n1FQs+EfVK1d4Q5ehmuW1AfwxO9Iy1Udhu4uP7qhkOJUI8QGH/WTLVYiY6qzm987Sq9qMz5nxak6rrDUuTa3s6ihiZwXznO+5ym6K6ZNDxDI/PH1Lh2LSQ5j+neJ1IY/Y17ZUX1Gv5IAIxAjfffiMAJWLbBiSiwH+sHzhrRWbLHAlC8Nwx8J9cF/034uXTjOpS7ikT1fXs57+bBaNbkCrMd91hJ3+WnuHk0IsSF9ey6LAK+Qh1xfR5ubw5qX74XNPwnnoQcpshlMjoOafHk8XyiYmB+rkSfGbc97g1FTYEj1YBgl0qZ+hkX4GDec2FZBX/RVG59UNL7tEjtYaxmmpUGG5T9N4uMWw0tSujC9dpMIId0P6NDpjuWH96ADLBMMk83AYOleI+lbZz7JAjr2QMVGJcVRq/p0/QoPndtt4V74ARjwf7lBAkKgcP4++N8vLstPni6qLxJodfWJZH5fkXZUAVT9/eOjV6xTGaChyDHi8hyYS8YJR+gcPvc7tCIdwvGoMRZFglkaPcO1j5qXQ1SWZbOprUK59eYnqhPmCDEN/ZbkAnMFSxDn6viiIJxDEgBzxk0VympwkyxmZtCYxha2PMCqytB4zthQktxHAThuZFjYlSow5FQfBKt5Qs+kdClN6SRjz0oaRpAE1fzLhrLeUT4TTfXGD6Fj2MuuNZX5R/XX6J2cRwjfUvIVgPS3+N4ymrMLeT+PZFWwS2pxZRWumSrvMPDo6lGpTt56eLqDzChc4TL7O9BMLdpXxvVVhT+15B0PwWgbZpg6/SAih3c3l1WAIuX+cupcWI5yujHohBuFx+KwPTDE36qH+hAKC3BnV58b5Q55vO/3eWH10WDFsFHD9hClCgWLL/FXZ/Tk1+w1Hk2GSzyNP0Dy5bcdiyqaWsVhs4gHdN3+j6x1nCDKVmo6FCWRGXoxdLnRZJytwvMCoOaH/fVWeMFS9yBlqfJudnIX1latwP756DF3/1RcVqxoeIxFAkYp2+7UNj8uFDu4PhgDS4eltEROLT6L2ydObpXHyyVi9+J5VA1WzHKgWjbagMepBDK7VMmYFhp/A7ZcYPAuXSM930QEjUBF1GLYFcUy4zaza5tflLiUGqaC43KDYmVlvhTFVONmhq9UUAAAAwDDDCApb8Dsqx4feH/oViDnf7FcqhcwjgrNQVyKcUDef6EBgyn4RwgcQkOx3aQBtqvevKfRHkZeFnTjINKsfYt4CekjM5oVhJWWIKLxigF4oIsYdp+yO3p6axOgil8drK+o6jtmnFTOIgYsG/n6VUjpYoeSHHJMKXAAABTWSPKbIG0AEJ9l4butsa8PLSCmeLY7Pf7uyjUoQHNaTk2rNMpXMCrfviaz8Ud0EIO9z1i7p5IDwAPLAm4BUgNzAAABHEGaJGxDf/6nj3ziAbPUmIJ26GcQ2UNbC3oJc+CuO0s2i3lLILUSV75CnQDKJHSVTmg2j9KQ7h1oEgC7nRwqZUK5lalG4C4rYsfH2tKnTI6WAd8WTgT565fpFfemQCZF62ObBeCHAQzTQxqAg4AXUbCluSEAAAYh9e7WpVH4TI4jYJr5VXR4nndx95Irul9x4b/oZVvpCvCH6oVMcOgoHj4hm86LrpCwPgiKwMCVUWXyRiegCoxsgIR4zLxGm/Mv/6vx7tyQjky1hSApqwNeSVRhHWS+lmKUxD+i7foWv37Qbm29sLUYtqhX5UtyjclUEKn/ba8BCZeqa0nC2KooKPne62VYGIOVIFW7jsix9W7tR4l9R/x0HfREuAesAAAAVEGeQniFfwvqtGC3t8ALJzugNToprLwl6RSlEhdokPcR9IJkDDhd6egbjkIh5IJkdSMSolYABqYNGy36QZjUppNiVeg6uaE4fK6gMDFhFkVQe0MBgwAAAD4BnmF0Qn8N3bcugnoW8oAPdo8hSuvWlEQUGwUQcAW4AF4xKsiHv3JTY5wGtpBr7U0Gu0jGui3Hby3dzResoAAAADMBnmNqQn8MQhWaDlC55wPx+QY+xZpi//HYVAAuhhabubtDQsi5enkTAWv3e+uix5X6zA8AAAB8QZpoSahBaJlMCG///qeKqPNMbo2ArJeWvQARhpWbF1v3OQGmMZEt7JWzaZKaXRUMDKaWnlXMji2KuzTqWYmi8XO4wTJYIAAAAwAz8/ftqmWvmn4q5+23rkJxrOTffoFxhhsJFUd5zEDS3ZyeA6mK8nhZ3ilst+4QTx/vcQAAADlBnoZFESwr/wpAjXvbjO4fIHL6WNL5rOp9uvU/WAAn2uYG5XS7zIYRjPPFq+RQnwW37HtQ2/LUvmEAAAAoAZ6ldEJ/DFIgSTzJfm1DB0nNNFIA82oABLWld+jSkTWZkBv2CytDewAAACYBnqdqQn8MhsKnciQvRTT0YC9gALXWPGp2lTE63Io8sBGbuoA/wAAAAFBBmqxJqEFsmUwIb//+p4tC62mB4AS5OJ+3/I8x63yOK+dmyFGi2NeCWsGu/wnBfUjccl287yBLIT/z8gKVsXgAFR6yCFEDyOXoieSEf4R6wAAAADlBnspFFSwr/wnKzYqQdmH6tNCA5phKbA8Fac1T3bIp+kK3n+oAGwwLQfGiBLTQFDxrVcJLF0+pQdMAAAAwAZ7pdEJ/DDy19OtjAswvG15s/sAAjmPX4KVBVokAAugM59LmcCeP/JafGaFD45JwAAAANAGe62pCfwxXejtcnb61gBZsXyXkGhplghnhElU83NK9Yi2oABLXAJ55pQsHAQmr8Ar7QwIAAACcQZrwSahBbJlMCG///qeLQu6HQxjxkAFyfY0Cou/taE9hejBtlohTg53Ggl5su03DM8rChn5at3ucX+c06BtJxtJIXPG/7QkFe9GBSJjYP0aGWRbVkFIXKsdnGwnMpNuR/+KUZ5TOAAA66+xvuwA1P4SoBMaZQ8QXJQKcndrUqxkPBRFlnJPR7SBMdATOBQEnMj2ZsXUrcFwih8OBAAAAPEGfDkUVLCv/Cnm+XHdFam1QDqACZJa886HI6FwwjsYSeg6AwP/oAWb5H5l468J931n/jF7rCnPPHZVEPQAAACgBny10Qn8McvdhVJA9MpxMKjtxIAAtXTQISFK7TVFqRs9LL40wWdFBAAAANAGfL2pCfwxWD46crCgNM6vnUYAn0vtmb87ccKAAR0pSLOyQG6NNR0KBDTruU6QRyLQc9IAAAADzQZs0SahBbJlMCG///qeLQvTfFwp7ko6DXGVk+ivsCAB14FOhnqS/J9qQSRAIXqy/M00FCJz/dL7csCcnKc0HAe6AyGPPlVwxkhGi+1EN4qJlDdR+EJ2JkHxl3wuyuMCOU2Df/s7BYC6pxm86AABGZqZ3gMeNiCBuwpMG9aHe9anMMB1tpGL+Yd77tqmXEGM9+I5s7sdY7NV9hznGsdo1rr2GStvE03Kr3r7X0s4tJyBRyqR3MDD6APtsXi6olBSLgYIYPlWkIKaX8obASjfM09z/8dVKVyTuJXWhL3KB2PnIF01xt7MeZUjZykGXTYtyJgPSAAAASUGfUkUVLCv/CmNMGim80cFgCJbgNuD1k071u0GM2lHJY9pOXR+Xl50Vx8YKRNoaAFlqmA7ZR/eS8eYODX3C4mrkPWWHdKWjCXkAAAAwAZ9xdEJ/DHL3PbTVNpqOuf36MWXCwwATrTJcf8aphqpCAFbLUIGhEBxFthQ+egb0AAAANAGfc2pCfwxnX1o0nII6CVj3SzLXAaiAAlVN9Lwc8ZzYw8TrqaAAHbUd/Ll+XK1ITHZkKmAAAAEfQZt4SahBbJlMCG///qeLbp/yxIyWa9VKy+nvj0ZjwALjmzlZn/okboUFNt+lfoh2F/gRS1bxksIb47m3STRnXFnjUFrNmvoECanbytfddD4BR32S4X7yq+gszqEbv4TbaVXq0p+UBLkkenhS9uI71IAwGacyDM6Oyk6CL0BFI29opIUSFFGAgX6MRn8wHg86i2z2FfaLrOs81fEO4bzVku47/eYBZGNQNk6pYR8swdt5v8aqnhDBh+tMWPYjQfnub2M31pw+u5NUzoB+DdwJwnUJHcXWpSlT0q3M4rqNBi22f/fJV20Eph54h/sCpwwgrYAixWu05/oiJoYy1QlZK2NfGGA3ccRioBFG+GfeLlTJEAWrdcl9ikgElLMANREAAABJQZ+WRRUsK/8Kl7Si4ABaqNktGLhOZk2DIGqf/jAp3Dayn18tAYzEvlPprlmWm3drynHQ1mObeFADDsR0kPC2OiIc99EZeLCtgAAAADwBn7V0Qn8Mh+WE7Onb/wlekOqJABOqvguGYie3XnMQ7XcGGAyHkgB0WGBNw8dUm5hQAxFJXLpZmymsBvUAAABCAZ+3akJ/DHFqEncfcZjPABODV84GKzD6SX4CuJTF223B8W74fRh3Ys2FVQFMMWzuaVcAG5lckMfodR+8swWHwBqxAAABEEGbu0moQWyZTAhv//6niFPDmoep5Okis3IAdE+T98fEpKve73cSeGSu7V06ExFVjPr+MuZkEt2Oq5Tti7FNQFjR9GkA/cdUoQd2d5IF6OjAyqV9tyJxI8ywfj0UCViydaXwl90wqjmQzys4ZKP+L0H2NpcBenDQ01WN+CeQ/T9XMBG2Pk+5doRQwccWIfPr6tvwmrgDM7wZEOpnDAx6G09IIbfPl7R0n5vvOJWfiFCJjEsV8HAMYuXZQoKuqHZxCZ51PywCDkp5I0P/R4OXqgStSCUPK3gtJMjHvcAHm9XuG6FpF0rrW9TPOs9f+q71ofdGQETrrvQ0DszRqwcjeI2hcg01GBeBL5ipw4AtwNSKAAAAUEGf2UUVLCv/COKATUSURoG30eKYATAzgwxDU/JncurLrluxjoEWgzXNy7TT05P/xOG9R/naIgMRauL+hEcIC3AE6O+5LXX394d2Ia0fZgRtAAAATgGf+mpCfwqP22pKGNLrRKeOaXNmBjvCDd7h+LJ7vQAc/m7WcYunnDpWP+dHVaexQ7U1qMcflTS4TTQsYoZ8YKKAHsNuqQVyTGI/PJADpgAAATpBm/9JqEFsmUwIb//+p4qbAkgAuTWlunYiFhm4mM1JFzvSemm1lmYI54tLFVJixRz33vX7Z4Cm5pEQBvpMM7PlBuZKCcwAGLT9/l+rJTyLF9NiTU1a9zlFpLVt+XSQnv+YkxOCkmsJkqJkbiEj4KQbriYJqffQND7bo24JDA6hCk6cKdJDNgzmZyRT8hgjMTRG7tMHYaxRp1Ype9gRcRFrFDfqJJ2NQ/P66+ad9UJrHGSD3NOmFz7txCFFsH/ingW5vz/AI8QoRBUzsD532T1JXDbKIWUuINqOCIKZvEInRQFMCy2zvjsQZmBVQxfUCPbMUhZEl2be35A8s5ldK3HV5CI4SkVGdvNXFQhnRlYMMGnhF0Ts87UdczxHL9SUkLsG2lMb8SBYgRdxiOwiz29lmhDRsDY9LdBcQQAAAGhBnh1FFSwr/wqWUM4/oXepxFcB+eJ1ZNh7Dy/0fPvNN+dC5k89Eao+F+8XK/NJDgwAixd18tHKI5ZxWaKNVQ96B16b0oLXD4GSkAsUD8n4j33jaS+JNrJ9UfCAGu85wuRhvaYkmsAW0QAAAIcBnjx0Qn8LRoI8F6CwlZEEAFqfz/0V1cKKFMmnN9grvKYvkhvNtzYpsD3b/ayTTbHA/hf9pl08HSBvksbAnsf4i2pWUXlfg7Cou4+Y8NWt3q0Vl00xrhiISLU+Ox2pXHOKOky738Y0jodO0FeCYX4DywhUf9Imll+ytfgER/7agtayokTASMAAAAB+AZ4+akJ/DH9VfrK9iT7mb+/AAugX0qDl1bOgsMu3NlAJRYrtevIACN/st40RziO/B+Cau6X9HFIBClV65v8RvMC99Ey0FIAy08iBR2ZOCXK+j5n+JgiloGhW4hJlgz3pjjWonOHeqW086U38NBzwzGeI3QYASunEbALkAB7QAAABFkGaI0moQWyZTAhv//6ntvQEgATJpZPoAmE5AbD/SfjQnc+QKZhScnYhC0OVbogqBP6xnvUnCVURJv5JK9u1Vaz/Nc1r3hFxSmUlpsL9ffpAI9DtL5hBhtjNkW7KbSAUZ3NLaBLRCu5xYNjs2qbM1fGiofHjTUZwa0/wdWUgUh+XmIeYOq8JXX//dHkuFdmC9FPEZu3AvR1n5NoU8016BVBx3QkID3WvzCn+oCFRb2Zi3t/8QLPhub4rKOu0Qst2QUKcQe0Gu3qIYhBmQanOhncLt/Jil1Hhs0hMl05U1T+FV+MXQS8GS/sSDBCWKb8V5bqX17SEbAMutSIfa4bu2JnjqccRc0fQ61P4NSV92ACa5JYjH8K3AAAAmEGeQUUVLCv/EVy/7eMACvtGeOGu8O4Wle2NS5Cbn+73laTG0fcl4E2GYsxn8pXkU1C82G5nKNOp0eXqHT+/fCGpueSci+CBY0GtAidoOTU1R2KnkM7Byd3wd6YWZTRw+AcHfxTmNfwugS8vfTXk2GixooTFMVpuS6QuXn6cc+643BQ2/XmWNgFdQm+pF2wfTqY9LzGzAN6AAAAAoQGeYHRCfw+jEE3B+vcOAIniPwxLQ0P83utU3VmClbsX1RfSO+30mFuwo4THhsGyXsvAMoA0N2l9dbBVwjJl3+Eq6R60I9sLsb3QlVlX1n2/koh8GIWEK/Mt+26unB+Jk96MsaVfWWMjiXwvPoOp7fCUt8rUqRiXrMdJhBZpRorLneEJnygvzAgpJGBWZR54YTDQnrAGvGLswEx2jhKaYYGVAAAApgGeYmpCfxQ8cN/8WYAo8AmdEoDeyubTz2P9z9zsNer6yIr0BGiDO79WtiZQMJpx5vciyrNpl4RbSNA0EypA3458ZpE1ZlKnwfrsgyM4a91lGjIi+NmF82mz4Twsg5/1h6ylQM1XOM81ybcFt7QcB8xNZvQrJWWAYev68lPpop82mGNNkzI+nfUd7eJQocz4euizQM0cAmBzYKAY6KYfmyatkYoAA+YAAAE7QZpnSahBbJlMCG///qe3XzuTRM6XimzC5LEPn/ltAA302AcQSobN5lIRT3urs3f6HgiSuSq7jFLjwZjQtyAlhr4yiB7kAaWApVMtOJff1mp1xTd0NETmyFzGcIVEEREJntRw20moZjTnLMzlEngO0RB8m5g5rjOFpwvM8jEgZOn7MeEb8PAIyhHRVl0/QWM1EOB2p/0etqtXUG1q1NK1s3FzURo/+FaOdZxcvQ6uTV1la/TQSA/0A3zKvTwdjlOA4+qLppVBVMdbnh4t4KgQJ/5oFHFNvjD/Oz0AH+feSAysoeqzmyhHGD9V8/TytE5lKMO8jCjc81xuCsGLKH1XJaL1UMTpS5rXthk9deyAT3ztgB/b38vPOYJOW2CvdYIaOzYc8Vs7ASfVHz/GxXQ5ZwpAMWXPkzAAAGLBAAAAmUGehUUVLCv/EUe11BYal5/3n6mcAhTi+urdjFF2ZRKvj/9gc5VbJVT/64bl81nnHqepzdKcR2r5OL8pvLPMFgwR0zAOQfkEoaJ6Cxji4Ml5Wkk3u7uNNx77AHnf288zEvEeIPR+EdGOxlPuu3jbBEeUdWOB6Kmf0wSohPs4Gvlmr2LGk19Zd/wxRV6xfVFkwnTj5s9mH+VC8wAAAKwBnqR0Qn8Vum4IFcKADpGcGRmgxAK9BzP+JX8Eqo+DiatSLywvwPYHI3WWQ3GtYLehexTQC8P6R4gEGjs9Hr1fri0pT2eahcn0mCJwVwujrijajPVo67p/Rue/vcBXnXqMaEwaBqmzbEpMrNwEXYdzTKkuKaDXVQsuo7O10QeKUDTcvK9633VmOU8uEb7JhagPncnhj3cfVdiDEODUjeXHj+gBkSntbzHj/hFxAAAAkQGepmpCfwo3NoTh1R6hfzPUwAX+yguCaC8Bq9qokUCH15rDvCBODdUo/CGyM98cTVTls8x2D6lSbB3hUE1oVq/rKxU4hmr8bt/cnAmzDFY1uOVATPQ89rfevPyOb1OQfFxv7y6StZ5KOeiFNnwmS4dT+2TY/kqd/gMajhBwhf6Cj+7089UJS4O7c3sFyqqAgYEAAAFeQZqrSahBbJlMCG///qeEArP9aQAlpqDcTwNXNuzKCco5PWGwuT2cM2XqvDvT42ddtsAQye/316QjBqg3eJRVPT3BJ1s+wqoBSVL8eDvjHhSFI3wBR6gkdcJ1jaCTioE2B3cNeavBNXEeoLTzx8dyHFbaZ+ttEok68bVZkcVsHcVA/WX/oHZxYUnNo9sWyY0NFYQzpjpiSoXnmW+bnUtRYPdQSrWnpmY2KzUNSo3QELrkFN+cKjEfcsPwX8VZRMlw4Zn2H87HjLUd6md8tYDV5XlyCa/psQPcwU+bR0mF4lOdxW4R3GTFXrr0dQ30uK5GDPDSDQWjooZO+hoLwGwHaRxP0uSi+Z1ENHcF9wVq2WTZNbh82JVmTLBgCoFbKG1+jAHlR1G6zepBCm5BDJ+vrZ8i/quQhaHa7rpF6TP+MLWiYc17T2pGbLqlFSpTNKsJpeBDE07gf9ysVjA2A44AAADEQZ7JRRUsK/8ImgewCd3d0AhHnA3bgOKWPjwV6/w7SbjsadRmsdXSjZvzApLmPxLrKsuM2f5fbCuEe9WPYKdhcKMciRoF3/ElYDgzsgPWJHQBAwSntarkGmfJIffMrrY9jdnDwHMzSlHiFAoYq0I6PjfpWsJotkw927l5OnwIIFGWkT+nadHOEUeYF8sXCeJiWKbqZXDJF+WoAIrLdfFmEuKl69hK30ob0y02eTUWUpXSSNgeg74CBYxrv7kB4PteymSDpgAAAK4Bnuh0Qn8KJozLYT6AwPzKyURywACMBccfP9b5X8GTW8FAmXyJaoZUPKYUu80oIRFNQlEl3B0LofK7PMOQGssFw2m8YjSdgb5rsH9p3zR3X/pXH7fo7TdYiMTJedBI5TiFYMIvyJT4N+nWfRMc4KdSyLXAmDS4BefH4y1dqtfdttsz47wy5NK60Unue96CQw1Z/5UuDx7GcpAIVhK5Fglkxfn3D/gBtC0hQKuACpkAAADVAZ7qakJ/Cjc0xGm5pwwEAbfj4DjnhsY7PESnSQXbljGarVIFGZVFevNkrJ8BhrRoz+geyhEn/0k86sYL87vYE4dcmuEeiVZO39mLlg8aKcAo5tnzJwZMIghRjbUm8aj7MbPEQuLxFDXu28T/QtSlBWxVoJ+30R448fj/d+E1EanXtyAy3fi4C7yZhvWlRmwpRikuOJXM/z6pIRHHt5KhUj9k/XXVgh3XGsl/4eCYYhGc00bUdx3RzKLi2it/IaOfkRShXNVyL/7izCaj7tKQVycwDkKCAAABFEGa70moQWyZTAhv//6nhAK/0ow+F13FXQXinFhfMRb+KW4APzj4rJ511QmMfhY43cHl6ztBD5NS4hKhfV55ubxhzw5mQTkHmrcBlmBkpafp5Y4pDUWEenPFxBvSVFjF98qRAOifItwbNxrL0AAVkZFFH+Cu1tBX4Urf4EVJ+NS0o/UBFZh7XxiDqZ/VMSNWT4xQMLZjGF5TZ146IPVZ6ntS/fed9t47RhoqRY5rofj8MYsVCrSRkwJaAPpV81Luhmcv5sMiIX3n+DqV/5iCjdQwSVe2g8yOafjAnYfnmTJtqX2kbacMwrkbtw3oakH/rCUCMiOLehIOQV8ydUp4INA0yjKLYruZldYH4WThZ5cmdW4BUwAAAL1Bnw1FFSwr/wiaB14uSRJZ/E3o0VJdJcyNiADjcXk+Cxa9cBgLXCvkAF7ZORfFXKtqt0YE6QYTGSjeRR6jc77smxgK91mS0cwRfTqpuZ6PoUynT2hE5f+O/MMlV+73bD9aEpdMdgL43bBzuJRQNV+PrEpQnnVohLE6D7EKctJPVT45SuX/3qWz8xpQNvfChSlCRJ+8UCkxafH/y3A3sVF3HBSV4D58Oz41o/RBe0T4cMlo6UnA66qzlizgZUEAAADdAZ8sdEJ/CiaKX1d0JT/RqdUyhZVFAKdWvmvP8ZcALRUzsrEf+Ruf5qbQ/bMFRyX1+3Vw/UKlcjbK+h/zeqw5xTRmtkpcbcSF1AQSt3Jf8qA7omVnfh11XaIVj6IpDKY/jOKbRsr8AoiUrXl0asRQek8bZ/iWA8+MHEhVmB5gqMaLOmNI81wRwTmD/DKQCjOkO5n40alrMw9Fn+s1SScW8xUORokW2xL6Royham0UZWh7lo+0ZF8Gs54wgsl1k6OQutHGdcYgiEChDev2fqa9ByqzMZEANcSqtsYuhq0AAAC2AZ8uakJ/CjcyX7pK+TwDcNWmQMAEdpmqFabKg8jPGJH5axavjzCHgmJsfK/BHopxj6ZqCYvNnykJ585lG9AkUbidS4MQgVoRxkwg1011fSq75lBuyN87V0KYvWesb3v1S+sPwJqZxCHP6Gn9Q8ezE8BI/AYoqtV4jTWYYpSX1a2RdudNvWumhmidPH77nqwzxsS1ykp4n4W9nbgfTfjB6rEBAvW4L+sityiOmtTitXmXGkCuwZUAAADcQZszSahBbJlMCG///qeEAEe+RtRv/hrjXfxfITABwppxBPyJBS9LwZuJTDTbrw04PBnxO3guUwBFeHliFWMgi4cczkcTwWtJiSfoflSAK7asDDPEsIvRjXqNnZUhqSzDnwuhPsqUBTL/L1Wv5hq8gdDf61N/TykiU5+m4ZnzSTVHF1VdraxZyLljbJOwbhTH5bH0EzqyurMpSL6WsB7zhxmRDLPC+hZ17mhZk/XhJvYwFXp//b5Bjog64R+hM45jAid5Y6kFp4b26Cq3MOkqSGcmJ47zBVSbLwAk4AAAAJtBn1FFFSwr/wiaBvbiQq+BlYDjK4yKNi3nwn7kSzi9loK4+THsAXtGMAIwj0pPspIChcWJI6WWdduNRziMqotfIdK6i0sXE/llpiSa9mnCtycuKP5vVEHeAMAnX1jUzlYj4rIw3g6cIX/aeehdIbCud8KlX52dRqv8XUdTZPI5us0uWsSsdCKpBlIblBsWgNUsMHjc1J/46YWBgQAAAJMBn3B0Qn8KJopfWWQnQUAHMM4Zw4mXsva2p4418Zh1QAQiK6oFJG7mbzxHYwEYnwxDJqzpNmZN1eKwzIn8VBLZEjt3pxa8Xg/2H3nKnpF7OIEMD2KYxm5RW3kgzg/U+rGZQrk5msmmotYAvIvPooTtM1WDZZGtTqfvAhXrGj421/oUpL9+RJm3oFqh99WgasxACHkAAABwAZ9yakJ/CjcyX7pKnh16w0UldLLgFlW45WjoqS83xQlYi+ANiTNzsQEAFxe8Y5pAllB/KH2+WvaDqoloP+7TwSELIBOl8F4QuhTTug7NRUswfNce3Ix/KBc19cwVmLJrbt2YA0yIdYs1bxPdLaYE3AAAAPdBm3dJqEFsmUwIb//+p4QAF9pD0fn1wNYWRtqUP9KSNSVTyoWaAa66OiuPq3UkBROeOnZ81IUDns4s+7obE1YGdvI2rEzLKIbsNyu/Z1gPZhYMib2076QHYIg/39dVWpgk8QzNd5FkOxnQ+oj+JJQFf+wFWb5pQzPXn07eLZM95Sj60STqdaCXE1NVsi+9oXgJLDy+qMii/+ZMQttJRFFVAmH0E5I4FZKvRth4WHnAkJ9o1pzO8BJG+mMkRjp3OzfLbAwpH5VvlwkZ2U5AFMPUREvrbGlEU+Ed7doUuOlkY0U01kEjS0D6nmTdDSU5/Ikrfokw3yTgAAAAi0GflUUVLCv/CJoG9uJCkIVF/hOVloAWeI19ThUIvipUky2gdtb6qgNTxebeZXwRHArrrpKAAJ7BlV7+r5Sf3TY0as2c9nBcFsnQtF1Qr+tp8xSgVkOiOglajXk5Dts5FCHS6tS79du1WeBH40EWziiHd2en42DL4g5gm3gAfIrXFk2aDdTsVMbcAZcAAACOAZ+0dEJ/CiaKX1lh1TN6BkO+jBpyLFex0qOj8QZ9hgABc6vwZ2KI6cnv3noIB0lLowGWD4CWlv3YLcWE3L1ugNaTKwTZJGXNvGoMRiQlhU/u7L0hGobl+KNzzg7lClC8PMsFdKKK4caZ7vcHgf4J4h28AqcsPOSmbmUlZiEvQ0+f3hbjKnzzcTuRmkD8gAAAAJsBn7ZqQn8KNzJfukkDSAK3Bx5tnK/AZYE/CAIAOPbTmvObDOc0+N8CFLgRo3/be9doPfpwEp1OUd4FiM65e6X7FAtuPWt1FXR3cS9jMO39FR9nvyPOLWsbZ2CHCdR/INtcIDuwYcj3wl3wnoomCf1xf4uXZf39LwED2hcJyCLnPaeqaioJTP/qI8mfplOIYcijwAGXLXQ7sABbQQAAASJBm7tJqEFsmUwIb//+p4QAF/9lPwWHCelSCxQmQsApMD0KZVo3gHI+gr5F4+KxJe9TcsPyxEPrVotWsw5LxTS6pI3Kj8sSnaG83xId/TcY0wh4bLWUcnp/sUxm6Jl6TyavQCggCHv4ZojtflkJAPhHc7qjgY8nvJ4u7D3gOW2q6BSBM2nGobVPrktGzo74GAzYfyb+3AB8Hbwh91Az1a+3CgQ0t3m9bqoKvZHkJakDY494dJsRtr9mcBo3C3p72nmW2a0LwxPy38v1JdJ5RgGFr0hzTjieg0/6NdTo0PnyZ1Ejq7ABy4OfCy2eumaKeZ+RAzSs8IDe2wk6zZ3txKvH2EEkIKrb5U3GWSeLi3ibsKVxXqFEvmiibAvjjCq6RSempQAAAJlBn9lFFSwr/wiaBvbiQpAtK17tDVXGYTMyCtsQhtAbvRpRjFQAmiHEaKE6oyE81K4NzbvdoGHTbrya1EAyOljlWJ3tvPRgxmXb8mfwuJf8cMk7aVeZKYdSL7DWflHRHL4aK/0CcmuKSpoxx3k3qPkXN+980+HLr+9diFtNZnhA17BIvy8tirSkhoWaTuozMVwzaeMJ0sH0DjgAAACSAZ/4dEJ/CiaKX1lhzTMzo6G3bcjpB88PptGTW/q4XBiezUA0vg6MauzH4xvz2uhR4AazHLJGiw4VmpZaZ9rIMjPe/iWi84UO1dogQD/87NT70e9lvOiVaWGE/O1A0k55dK8YiQ9XWMHUJhrD5ynSeYzqy4TOwvd0IAQh2PBOoBM8k6zkPzsYdHYD+FkLtZDAAz8AAAChAZ/6akJ/CjcyX7pIbLyu/blHM5IVGEPqZDz/0oNvKZ7OXTZoLDfeLbCDQ9BwCB07DNuE0eyHblKHJ7KYoXWdVcR916uSHU/XmmVrteqiKuKPMirneyMPKO+iJUtmpLUM+hJHKLhmOQykr4XBp/HfNHaHSL6KUXyx/ECHuMgTrou8wFeSQh+6b/YLWcg592qcHoGj3VCHgaeeGI45XlhuIakAAADrQZv/SahBbJlMCG///qeEAAj3Te0c3lD0a6wLgBXShUpzZs+k0xQ3tHKyhWvPPrxqaZI1izDESn5KF3p+3iDYZAI6ucW/5J2Tqg1Wp/0RRb1VOwBmNFM8JuLs7jn1AxyxG6qXtHktNLuEnAyU3ZPxvgt6u9jG7ay38TrXjwA8y1v7WhJeZlgwhK2FDyhfUPYNsTMY12iBc/eDrXaW0Hbhuriwzsq5le9s0yOIq/g+1NP5ZJameLUwVNUgBfr9JZJhBCrCmY983mkiBfDS3z02JkQa8KwnI4a3HlBNmUsqFlSdwNByL38pCuYekQAAANBBnh1FFSwr/wiaBvbiQobQEtPUF3AA/Q2WC1+y0AgBtq5Kz5MH2rtNtLxCizSHzKJyAJmm3kl7CPkW7x7zJxdorTbxqCT1v8Yq1sVBTN5bjvk8JqvfcnFJ1o1fNna5Dxyowg3qqYt0qWbbb01v4oX+/Qn7X5swXxrlmmquuNfagLBwALlscTogWdVB50lkWTtU2upeZ3w4FkJAmtP5BBdcwF8FvaCj1LJDZEghkUb/Pl3IS18w1Y2UHcgGklVO5oG/CCTcPevhCZ0g109xUHHBAAAAlgGePHRCfwomil9ZYRuzBA0MzkmdQRjJafD4XSu49GbCuqAD8MN08HsFgy3ZnkvS8h/iGVeiCT8zL45GPSQZeJc1GlUkCdDJIqSZirswfLggm8jUuHaz3d4UHzn+B7IFYStARPPWFeLt5Kxsfc9hhPztQNJSQt+A5aBloDy0W+na4RUnL9SLe5CU33a/i2IB07QrVFwBjQAAAKkBnj5qQn8KNzJfukhtAeemmH0T3cIYuWMAVvy362r+Vx/Vn1aLVgxopDTxmIltjB9qd7sJiprMSIi1VLXwJrn1aONevWpMOs4/m8HyIv3tItL+uJ9k2U9CamN8FewEFfHVnMynZvj9OJJgbczA1tA8y0zmukjV963d+pJQ4lKu/GQEznfHXEZihfUYfUgMl+hmJJY5y4pxHUfVnuB3bb9/qx4hBgqDmH+AAAAA/EGaIkmoQWyZTAhv//6nhAADo+yn4MGkAtdyAQinCaUnDk3dwRWKGyXHB+b3uqWlUWuBJvV3v0/TXGsfSmyiBR7YeAg79xfq8JEftqHmWtXW5wAjf7X+75RrWsR+XpNCBLX74lVQGuzp616LuHZRb0x3XhlYng/PlTjkZ88FZxrWxUduPgEoUPVsQFGfVK+AF37epwxWWTeioSjOzCQr1VLjMxTqOA/MZTqL7b2l8ZsbaXA/gkgErE1eQdwP3hTL5FvA4eJrzGSFqSKCkMRvhAa6UGKR/e7KwQtvJEpARCljcoBEthIZuYIj4Qu02julFjhoXYKc2yB8i64BXwAAAKlBnkBFFSwr/wiaBvbiQoNU1vgeYAaBXeD1WGMJYJt0qs3OaGXffA5yEDwIn1TUCm/kUc7QUgZKPCEyz8mSg7sd3VadZplPdkmlUZlvpLBYnbMvVIi/+cqN/wKzWEcEIrZwStt+TC8qKn3KSKyPfIQB+U+1SzKEDYyBcHI/MVbLTkHXct7AmyhOCrWLol8pvZjZXEKVYfvPCFPGqmebEyeYoRLqOBao/4UkAAAAkQGeYWpCfwo3Ml+6SDZMSxUfMBAF+Jt5nIUQBpeXAeSSGimJOept5J1FiZvQ0tOSpOR/mNvvKTDSiH+jI/xkuhzJSEiZbuxo9+P/8AtNzBDIYQXkPhcxBI2bH/IQKnazwc5y8O3iXXcPHQLOp4C7I+kRlBi4mEVefOJD8ylY/26M6Vaf2pGxYGLAw+HTj94ArYEAAADYQZpmSahBbJlMCG///qeEAANj7Kfyli6KTeXKEGPDJtLjIbiDG82i6QAA18AuuMoCXZ0ztIQ1Luq++L6M6Cqca6+fd4eQprn2EKsZawjyMp+5Pdu7tdqzWmKxEMBNQTjNAEUOGqV2iVWbRx7vyhxzTR1jeSTNufJY61ffG+8vluI3tatIWSEvKa7aXwsSRED9qotIc8PsLRpE4qpjISqpFfC4g2dFZSnNTXRWcsVUzRimr1AAUJtQGvGJ6jvQIA/yxvZMjhmQHj+DQB3ZumkrCpbtN0Q6GoIeAAAAzEGehEUVLCv/CJoG9uJCg33sikthE/udl8Nb2FlrpRrbZ9012fK8HvHIrqoCUxUne3a/B5UdABaLJ88aqFj9skqxQGUsMj3MP/Qz83ZZNsitadn5NNVZCg35CFEDXFNCEg9PotY7y4AEqaLsz4/KropEZa1uWBWlpLNJZ1ng74ozRQiFiqAR2PRNMoh7ohKVi7pl8yjQ2VEzBTj/shPns2FebfTIw6RxS//7rd4GivMyYq2bPgLMH4SqM4LUhlM47hRuxqRZQYvCQiA2YQAAAKwBnqN0Qn8KJopfWWDbH8VCf/AHRVOAWZALNbxX16ryA2ORhkY/RBtk59EK9tiDqdi7SAC6jpslH5HN4rr0fHYY0Z3FmWXkQ2PDhRAADk42kxxdMy8YbEXlhEy6udHrVdaZBYAICz//Ht77Dl/DeQGHmVpySUFvfPhqhISPfWxP9BPKbBSgpzseIslFpTKTuTvR1SMUCscab3XYXkKt03mmVcxMB0IgJOjYgLKBAAAAogGepWpCfwo3Ml+6SDS494aZMSdgeG4fsZC25LgGVUK32EN4vPwAWw20u1eVkgENbii58+EX9jp6HvJhTCECMBTxvuqVKrgfkmsCcxMnsKKKUINSD/fq5+qmPwL/f0N37QvdJ61CLFauus4Fs3Lc+q4+cAB9V8i9mxHOscjmQ610Pgcu7PZY6J6zrd68DfeVr+IXG6A5v1g+u0iOo/DPXquBbQAAAPRBmqpJqEFsmUwIb//+p4QAAUjmXYJSyrg+sGZjRM4gGpvhLsL4QxDuNePw4xli0dkgU1m/6O4qXw232OmVNkJEPyEaUHdDTdroXrRUzw/rDCN/2nSIL/W579kO2xekfjYFHWCuJoRGribwtvdoG20e04htRV3xmGn3MGNZwBuQkT28EmrwkqAnBKutJOYmFl/N4PyNg3fptLrKd9/9yV6FbmtbmEAeW2HHk5n8EYcxcto0QH2sfa/qqrMRAjEe6VVSRyGK+Zaql/YH2uVLA5dmlV8tPdIObNZPhi65FiJwmrfLjppocWENtIogRL5kciwzQEXBAAAAkEGeyEUVLCv/CJoG9uJCg33sikeuHNHpbmvQ8D3Dh7lb34UWlVLxtjHZRrenAASnLUvzrTIF/SoKT48Xr/SsbVAETDyHcr/+CQdnj80ijgdBXieKKRQbMnA23YFQvt/3wYfQX7oBCw2cpd65KNdVUlUltDwjrHmFyS3nDoGQYae8A5Qu1wKxM79txKAvVOLB6QAAAI4Bnud0Qn8KJopfWWDbH66JeVfSS1Ff0RevkWwBRT1n3oHB1PfjU9qahPcZNwRKioYAbryurAhNvMEkn42P/NEgpxvf5nCoCGXzTrIuOsG0v7qhcWrOLoar/O+1cNgoFzlhwlSHlHIsZnX1D4r3JgJ5Qz3eLBjDOwy8NZrbNIMgL6HACCfGezXjDP1YQAb0AAAAkwGe6WpCfwo3Ml+6SDS494aZMSdgrPvNwLSSFM/lqt55arRo+Fe7kgA/DTXBqOF+Fm55R3hSLSizImnT17AA5CKHqUquxcOI4D5UGKPorMZmsPZVFlAAlBpnhx6GaCueObOWoMAVsPHhlV18yWmee1X+E/ML6n8voYP1rV9UERX3lfdByC/ivofkXEFg3sZCtyuEPQAAARxBmuxJqEFsmUwUTDf//qeEAAE/94Rf9A7ene1vaqAFtQMIPZpEX96gpB5qNaM15eu63MXgqnAq/IIPDJfMSNGjxOJPYCpU2ktp3Hz46eu1NlY8fDPDHhplcUPEMvJW5K3IZTAfQa1ACPR4znNqwrKDJL1U0B3c2UxW6xtGPs8G4Idj3q+WA15sMNWFAsgnfNlyPYyETH1B51N5EDJqHwbtYp+lqqdSCWVXm1DAX6jNL1ywrfNvzHoCMWChwk7EI1ONlDwnmixoYSAWTWDJbAa6hAPfGjd0iAQqJaa0IPhvSocFqDtFTSlf25GowT82cKkBupgyXYNBkGV+TjO3dN65KKdiB8qX0fUCu3aPRxV+9DRI/G15aNyk16zpgAAAAIYBnwtqQn8KPud0hqQbZ2z/5l2idyqlq2arxbr7HvusbSyFBqIABxruz9WdfAjsCW1Wi4eGnfjUs3ZeonnpuIxkjtGcjEf7eqM/BSDP6kMMkg7/TROnjOhMgGyxZI1M5gZN54rb1tDLW2NzVtf98vU2QRBwCgUc+u4L0L1XPYnPVs7YAwAGBAAAAMxBmw9J4QpSZTAhv/6nhAAAeU4lKy07MPVTXGgA22m+7I4iAECDFwYugs6WvrdP73I6lghh63gpX4Iapytdf7avARL6x86C6CAmWvbC0JtDcTqiF9PRlVtAsyIhgXgSOpt7BdcAMWzxfIUKAqKK2fqJ6hqEAz25T+Kdh8zjmxY9uDoTsrAWJHhY9odll3K6UA60lDd/8rymeQNHjWSRMJXl0KkMr4CYVlfypvFbMolpl7OVaAjwG8FuB/Q79kXhqLSEU2+iAdJ2KvAmGfEAAACcQZ8tRTRMK/8Ilxf23WD1ppVr2qXJtBRqMfq3zY9x6oyoFjwz/hmOTko+6qbLm/glrx0cbbfmkAtCTk7xyqNnljy87ZigzKL5YdayUzkO6+XJwPnnwmf8jLOUmjEjy3NUnkOtge9WIsrOwvPGj+zlMRUXnmi6FoIOnrxBFCkGeaE/CVpjlawwUXPuvXmEUSTrSC0+L/r0vzd+wETBAAAAlgGfTmpCfwo3Ml+6SDS494aZNbaM+jUQArXyRTwJLaS43Ulzc4JPxRyo2FUBIIlTvjjkFsj/ea1r+cla5W/VIMj8qVu9sm2b1b7TSQzC3T0HyHMhwbdM6v+jAjLnn0W+lZwJEhUmI284XVtc1ErYQdHk/dLRnpOOj5YawKfgu1XBnEMeymIBUizUG3QHMPW1QuRincACkwAAAQxBm1NJqEFomUwIb//+p4QAAHn4TOny5wxsa4y0JUpNjABLVyhZY3A5Gg2geHH52v6PnEUgnvve+HHYD4W4dh/nYCBjJlUfNknvWWC8VpaF29xKKflPNggbbklIYvttPKTLw7o6AJTGkuf2CPhl+IfICBFemMLjn1ehR+v5BLZiEzp8tEreEHtxO6Y9emIonPCMpl0HF6tPJ8oAV3tOyZz5ULVNPSJgDgDLou99TvdnUDRJJBrg0rVFOCrD981SqBhaLIUgKI6LX0JjIqY/3dVJTKJdOhXDHUPa2JkQ+ETrQjtNhgKm4pKuxQ+MzQLo3qRhcQEIEfIzGYusCkMWiHkP1JrzW40ZyLxl0MCAAAAAnkGfcUURLCv/CJoG9uJCg33sikeuHNH3KfGr9rWTFsVhCsFv4D6Z/HPj+A7kW1gAEuLb5EzLikYBj9lLZ2gfIVB5qPm4r1N8MP8RZ7FWk55dKAi95g25RMlO6jhknLltJibABygQ/EemPVQnwCWbAQidf04Y9Fw9h5BjsKoLJmGRO8D205tGfYFjo1jq7gAfQpqlbcvo1pPrVU101AccAAAAnwGfkHRCfwomil9ZYNsfrol5XiVczea8mjHVstxAeiv1ysa3cJ73+FBubQF+3Dhk/28GOaihRNW24l7dfa7uBf0zaAUD4NSefZcUwAr4Po9WpK8nh+NxMg603Xlqn/UiwSZpfPzwfBIT/rWp3LsQ6ufeJA3u/e6QcnCO0x62Rs0284fW3bkx3gtSd4pcO9Oxv0SJNiMrwsWA6ZV+fgABHwAAAKgBn5JqQn8KNzJfukg0uPeGmTW3clRC+CGlhigzT8yb0RNFMJPwtcyezgAGsEkL4pLJujLYdpN+TxFf76ldy/GJvCAISPR2Gyj6wNORlXogkfQwEiTaMFU7KpaLzrXmFmTJ+LfSfpBmEJMQBnZGXFBE8BdIT1J4wIESnQuL9JS/6oPMlcWLxgNnWtIMj41mfVRwxjORk6dr/PL0fh2fADqWtulvOUqgGVAAAADsQZuXSahBbJlMCG///qeEAAB0fZUUEaFzU4IjRi/c5NTn/m6cXoUAb62xyRay8yAiepE8XDGmUQDx8gxxeBNuPpbHHoLmDmudoK3/4n+E7EJc0uoqMLjchqRW9y2eMszrEbUxx6K1mS+smiMtHHIa5GNOQ7f6k7EArbbn9fuwqUrHm0xHCDSXHlvNyFVbZ+BXuvpg+ad7cf+DIxOU1NwnwjuBRvDrR4NjhgGBlvd2xS3P367NbrZU5u9fEGbAAOpqfahPQPqFaGVyowBJYr/ET6Y5z4OKjVzO7JMAjDUndc0zWmOomV2phMvz7oAAAACJQZ+1RRUsK/8Imgb24kKDfeyKR64c0fcr6ci9UgjPm/bBc8AZm121zgRgIuR/I8VP9tTzGvcFA4ABdAClN4Rh6pFlubbWSzjK/IqiWKORx+vWdliNx3QpuJnll1DSAqaIPfOeJqkd+sfH8a9O1ukVQgS7L9yS8gjbdN2pk4NZibyXDan9wAC0gS8AAACNAZ/UdEJ/CiaKX1lg2x+uiXleJ0YPXmJ8UxeoAPxxyQMUvkNFnFxhovXuhQInX0nrguVC7qg03dMtJb28jHdUGF+T/+siIqhVUXqI1yIXAd8ldgO6lhPSrolLYvIga3WpkvMsQzV6oqm6LTiRHTLapsEN/M+HCWar1d9XyBFWZ+WuVxTlfFYS7mf1YCTgAAAApAGf1mpCfwo3Ml+6SDS494aZNbdyWML3GdZJV041XnIykpzmNCBEr/5+sdadyAAnLAsHArP0wcZXctFR8jNW3QCczYdwjVRHQcovgMzNoGTcNlymnLbwo2DN8FAZlBjIcJslyIjd2OVDnCMIR02NLXwQpfKtzthnr9KCHV/0ys3zwtx1s95HXkajZbwGPSdqat6gpFNdoaHmhBXs6e/rk3C4IEfBAAABIkGb2UmoQWyZTBRMN//+p4QAAC68yuncDFkbG76su0n/JAA0Fl8aPnTSWpjAvPynWauWNLZje+QXuOrHgK9BzkYrVVb72NtuxzNNS46tHMiXiUtzG+9eZ6DxSu6jEIrKk52xvaYKKDf4lAXphshdKwJHEZ/2g+x1BgWd5Bmc5WJdfOf7Esl0lC+BRAwb6Lv2A3C1Jk5EScX3ld7fZwQSfmoktqbY21dG9YW4ojuesRBcfzphml5w/AEZPOSAL5OXVAoYuEzrPbnNu8Rx+j+EEjLJK+6qq2ECgHW82k4dG0e/E2eKj0oWe1XBcf88gZBsLuZHW/TBG+DWgoQqo4SUqhBhfp8I0b0UIwkHizGNUy3MEKAUhA9QTRQEVai+POvmysuBAAAAmwGf+GpCfwo+53SGpBtnbP/mXaEy1qlpTfvHb1wAw2kqAolGQr17d162CV6rYFtRi4J3nK2EAzzF5lidth/rI7Ps8sXAJYFCbPxp5fRrADCqxTmGFX1M4Htq8/BElUTeqHa4t2IpGyh76E1cocPGsKzspHhAmO5OTlE0HL+8ECvA+Ffgs2rLsVdhBIeta91VdutYSb3cWq2lkA+YAAABIkGb/UnhClJlMCG//qeEAAARVM2zz1gAKm1ZW8mSQHX1PKphhqqkXH/cwnz9Vhnto0wNYtGhNMfPgBP/zXHoFbWwPhk/KsoT3VaSFw0Q6hxs8d4n/QH1+01eKDOL/arnkfyowsmD7oWOSGZDfJMlrs9sYTSKM3KsdNjcDP+0uUzWWcTcCA9RL9ebcYtv4GjncYQ13yn5uUNgOTC6q3hx1woPnnp/jv8sMVRzxqDWBku+TjjZqaVKUc5lh+6bdIT+fYbSyhZf/TeLHwEX6MDw1LGQyfjNlNMleyEIMU955HZbghjgoddEmj597rLUYFa+cYOMEQNYrwVsNuDCeSF2uonk/r4fcfTCop+nFoktwm9jZXqS3pfVqucXXaSVGthSN1BBAAAAvkGeG0U0TCv/CJcX9t1g9aaVa9qlybQUaphidovO14Nsr0PHiH2heH5n4JJ1Mz10musCA2wAA4lRsZPgm+TtiFPaAiwwB5m+Mog4FNR5dm08+VQmtHPRpM8dueW4z5ec+LsR0M6rVkJimyBsWofcWa9z50NDuvgN7PzCqcU6wrMbr7sr/cMoISmwW++wnu2/BWLCBBUj5PWi/FzM4w07iN5fuD1uKuMcwRpo31G5PFBfqsa6Bul4Cd2zJjszwVsAAACwAZ46dEJ/CiaKX1lg2x+uiXleJ0Yp8Llykr3awu4xze2KbrW62rGJGKBwACW3izlHWi7fQR2PgExjutFpVgWCPCPsA47ELvRx9p5T4U+BMw9xkq5FMcsTE7xtfjMZamJADxK+iTawUL9VvIOjPV9P+uTPetBkvFuLHNwWqRWvmAIhk56DdkvdkR1izaEmgfH1LlxVbQs3s0fXtkris0Lmg+NHSRQ6vlqV/WgI/KDkAh8AAACgAZ48akJ/CjcyX7pINLj3hpk1t3JYwlNDhVe4bSDOPKjFd9ozRbn+/BgF+pQAk9+QCLETvuY/vzyKc+bMz22/coYYEtjE2iBVtoOP8KLpHKGOTx87dKIGdjpEkjSPINcFSCFrRRdBUpCcSbbFp9t5ayJ43mlliQTs5xFkWP6VbRpEySuw+AwhGCyhahdO+ofHrOqtFcq/G/0ZKCklLTC2gQAAAQhBmiFJqEFomUwIb//+p4QAABFv8lwG/ibmwpf1Fxx3bnPrgWtQNOyuWGyCwh+ckRg2Y/YunB7t2SuK4UTUwmKn7LB/4FzPkd6Sn8FD/+fsc9yZ4rr37G44v6dCXZ05LQK/UY8hpeSPwxeGq0QoYXLac7o9C4snk83/7W4dWNkPLyAwtQN1iVoBrnSNG8ND8LuAerKbNiojZXzlg5X7d4MtvSBJGr1bXW/Koh3ayNViCQV3XBwu+oR2fAUF0ZpIe0fffDOY8wK16w6UFjr6ZUYnWJM/mQgq9Y6OLe8TMLxcK43Ev0x2Jn93cVKvAC1PdBDrVfYgoRyNvwda+cUmyhN/eODA3mkwMLAAAACyQZ5fRREsK/8Imgb24kKDfeyKR64c0fcr6bR0c02iLW4KQt+nSDaRLFSQALTuV8FpfAeVtZzDBGembz7Py7bCb2ORnE7rKIzZllEMUGiPWHyAPqvY22zZLuE91F1tJt2X7PctA02JVZbpP10nRNA7ud8/KEHo75JEEaYnH8Jlze4D2/nlKBtrzTaMDZC6k5zoeNKNLF1PE8Umum2BfM2xhMmTICqCgT7DT36sjKNfWyBWwAAAAJ0Bnn50Qn8KJopfWWDbH66JeV4nRinwuwLkF5kcC9jSJsNvuUnCPNMwACULb90TeMZUyrcaDuhYEALFTRwH5bra6WyZh8H6ab4YZo+1Kon2CRlbWvcbTU4shX24pyOC8GEZFO8qx1E/+FYuCk7L0o3C48tALu/hMMWd6stBXpBNxNakioy00WUldhRyAc7OoX5NdZC/2l2X6matxIG9AAAAsAGeYGpCfwo3Ml+6SDS494aZNbdyWMJTu6GzLO6Z0EA9ZTx68Kym6IUFACT6krhRKfCAYY8ZPKY1CEIgfuE+IRUHFsoueyhMOlpIqxszuHMHPEP19Df0Xb3YxwlEWLKrx3dWKIvct2d9NoQ+bzTcPCwVKC19kjxvkUdJWSPvP9KWKHzxw/HIBO1jfgCGyaKJKBuCdkKlfXMxUa6w+7bD2j9fnhj6HNtg8CCzLmzGABdwAAAA80GaZUmoQWyZTAhv//6nhAAABpzZd2/GdHUAQF5Qhc8h54l0oVCZF307SRuRdUa/i0PmJWNDeadX0HvSOf/CACed6gi22VvAhq8oLUcyBOV72BCiHm5NFGBCtSytp1vpRHPd2Y5cSgYquPD4nkhVSloixe4pSr8FA4kXmnwgY94Uu6ZfWMca6XtlaUOKLGPgkI9HCb8qDKTLquwj3xE1yiA4g+NLVxdcyEY1TKw3/2TSCbxstp+LlkDPXiTGoyq8cSzGJO8l+GAaqGUum4YPQSwU3A4wQhn2aVoErzWBq2ArE7moL4JTCpIIo0UIHV+chtUPHwAAALpBnoNFFSwr/wiaBvbiQoN97IpHrhzR9yvptHRzTYs2Ksg4sydEfwc2TGEjz957s6NInL/RNgBOjV483pgOPe5JldegGC9sZ0Q0ffVMA0O/VsTiHNIAsRHYB6waMgstq33hllpCXiXsz3dCuffT6GnvGNe+XpGgrO1AFJiYGPgVHHZ/HjvITQ+DjNRgCE5DREfkLA9qPBWz9oY9/xzn6wmEcndF4bLb2/zeWW7fkFcCJBGWxcAbPsEwDUgAAACTAZ6idEJ/CiaKX1lg2x+uiXleJ0Yp8LQHIQcbASQ/iO9/7pyTNpHboATSYDv+HAQ/fEnBCnoYCi3LPMvK2DNsFapM8w5YAdpw+H1DIkWwpgcCFMsrE+VoejO51VNe9+1SF9kh7ndiwMQzBveob+hHne4yODnhch1+P/Yg4rhbL6O2zl+szgQXKreAzKW54IQoAAb1AAAAggGepGpCfwo3Ml+6SDS494aZNbdyWMJRmcs9gqxX8RJDAD9TOcAAnFbt51dShTfL4Q2gyc/ChPa3R/aMp/Nv8uXqBC7Vyu641/bAu0ZfmUe3HBfPSOw/eSFXUVfwFL7crdmNSepYl3AqlfboyaowhxPf9mdI83rSbtbumPlgrFAAGBEAAAEfQZqpSahBbJlMCG///qeEAAAGleWws9kA00iADWYujQcdecU39lJ2xfl4zYTRcwHF5AcbU2JYzl3kNzQLwRbdr17Qjc2gtedjEp4vGtaRXLmjPAeR3o9v1Cc0OjhgykzsLkmEf1ygeRexsIhxRkMFI2k82k/swSv0xqoncWjU5/1oqfQ8ORv5GGTk9drwSD6YdR0NtpZuZpWfNbmNVCZTWexMprJ/LPVejyqB8+YhLIok1Qa4eiH+na8TOgP36V9CDUWofCotMmSPMoUtx4ToS1XRJDYVSU+OPiIq/WBVIeTGjjGudBm9x1NkcjvixjWJ2Hp/B2h7Kiz7jHvZNQQFchBmjCi9POGGh+qhB7kdoSKkExBjQpnli4vDYjYCu4EAAACdQZ7HRRUsK/8Imgb24kKDfeyKR64c0fcr6bR0c02LROe4cBYDYA35FVfw6t6gPpqxBrx05CoAGpl0mGi/bLxTqwARWilEzIefaBo7ESl1fFqJQLAT9GdXjsGeThj2d+TAZDDGDt2DcUhTdSkqfSkKCxNemHxVa56RYrIvk65BUhzvyCCsAHLkGhFg40JvWqSco9QjOhF6Jv3/HYD5gQAAAKsBnuZ0Qn8KJopfWWDbH66JeV4nRinwtAb82v+j0o0TBEwzeACMa5l5YIvnFngQLZvSV3MyDo7WEtfXZaZ/pUcY2vsXLaH4TTBbPrecxEzdW0jlMEzNTq1K3gMH960ZSjdnTNeQufjDGO3YOQwer+V9L4KKbUyS2PY4iwYPrqO/QDIDkDl9WAqVC+/iSfYOKCY1TjIM7SbnzEe0oOSovpRzoK2OhaVxmZDFAR8AAACPAZ7oakJ/CjcyX7pINLj3hpk1t3JYwlGapRoM/A+Ok/cVvFeamUBhaD9sqShd1n0IMEOVHB6DtTzIKMPh8qrm5LsEl1vzJTZUavNDm50zGWdW41+LzEbuUSYJU0F2rG54+LtE//O8LsYg+UjqvI6OSufK1uOPE8EWqJEqTqXoWN0DPxoVn465hibbpswAFJAAAAD9QZrtSahBbJlMCG///qeEAAAGn4TzJYh1y+vQ/AbVjcJ+AAb03btgr9LlflxUMnbBoWCaBzsWf6VGiZa5Dt8uvtxeLgD6MQ924DiMtF/kQBsssJhU2ViTjk15PKAWnFslzaBHtizrb0CPg5Mie2guH7z6QrNupRyEEIpj4P7J4cLcAQE5R7k16SeRoUnad23w+sUg8p9q7xGTDtJAPDPI8/5ZCCx2gJ5v17DoG69NokI7tSUM/yHZMR9QeGPp8mx5MTATUr/FYmXKFwihmHTlj8EYQI4GQM4ckh1S/NCuqQszq6rfGNOGnvZ108k93Pj4wHmjTJha6GcTnjE9IQAAAKNBnwtFFSwr/wiaBvbiQoN97IpHrhzR9yvptHRzTYtBtAMUf3qnq2n5B4SihDr+CZ52BAC2iVaEOZAu8CaC/QXx9w6CtnfrEXQdNnoIHdNbNVuYgkCjna5Q7FK6a5vH8wU8W0IAmvODcjpHKAMdDuGNChMURG9UM6noVxtn8vvJUXkRs6MmF1PJdjkX2O8L43R0Ja71CNj00KDMBm77mbblAImAAAAAnAGfKnRCfwomil9ZYNsfrol5XidGKfC0CC9JXq0p64rFq3uYz1mMVLH2PAZ+HczFFKuNgmw8q/VM43KPNn3/zCQBQJe3OO9Alu/d1X/wcQwlwHR49x9BWD73pZMxCGDtniI5zY7cWFspqk8qP4VM5ogDMrmd3PVaPfgi0yw2jedUVJv+fwYjBNbRrFn8p+q8ZBSPzLIgjZ46+AAnYAAAAJ0BnyxqQn8KNzJfukg0uPeGmTW3cljCUToN9qH+XJM7Egl228AFfSdwQjO9CoQBa7FAm1XpeKhYZf0RD+pavbfje6jS85nXW1kHxmItjhlZ0PebaBz/IugEcrNDq89kM2lr2EZGdYdTSosuDVDnb0KV5nlasbj7kFG787ZxzUKZ+1dVbvqd+3qSJVLob28dRyFo1esAxEiI5uIKAO6BAAABS0GbMUmoQWyZTAhv//6nhAAAAwJ8AtZc1Epq5LFZ4TPei/CS+KgBuyEZynOBUzOUDoOgfjVNXniV71JdCU4eMskqKwZzjjpdlNkq6ZH2Spdv9RxsTX52fi9HMugJGpE2DdIGSFOivyeXAeeuv0wI4IULKhwHtTnb8aJk4f4aOLyjLHquj7jzhMbr5VvLWjtXnKMQMjFmetH6/6AhT6C5PG8k6/Wnz6q0bxALyEWRe70JChWxPc4WmB42Ig3lP+OOipSC8BdAjXEaBwmiei4/NNAXr64ZXtkSDZ9UxwgYh8nNqy9fbYl+UMWJ/oxjYmVpYl1U9mLm2C2wo/wWbiAM75D0dnwj7Hes1iJN7TbUynsjyAjIwL9o8unZaZ19Tt8JKjti8WJMBUD7JxWTw6ulZgxccndpX61KEfav2z7zZg1OrcgupNN0RG8ICpkAAACmQZ9PRRUsK/8Imgb24kKDfeyKR64c0fcr6bR0c02ELR+1wAC5oaWM2l6Dr2K98PRAz2j82fWscxb3u3fKG4bFyShfbdTzA+FKqNjmYesq4Yqg6LRiuFPqEV9kJvOGE8NuoUnKe0XY7kKd/K2W1CpnZCuY4u3aR0bigOioEUj9gXOxqgIQU+AhZPHIF+TiEJkpEm53fB3p8QKnDxwRsWuwwH7GyYCTgQAAAL8Bn250Qn8KJopfWWDbH66JeV4nRinws+wJzag4UfQRF7rHoBmpQYmgCrZuxLch2zAzF/DA76L0bcFIXrEOEBaKuGnD4GJ4V8MsidQY0vSMcSET8xWVtm9fRTM/HI+m+ycBP0kQemivKVjv5JZN4JpGE9Loi/FNwI0sl8pZdm6r6f3mLf817Ub4BcDCXo9rNUJeVYZ60HqzDvb2sJ94MtqPsnCG4p/iQKDP9W3nj0uXwCPykq6h8A/WzYjkkitpZQAAAMYBn3BqQn8KNzJfukg0uPeGmTW3cljCUZF5ubWQ+oteamLe/IQDBEp/FAEZHTZ6KinUZIPZuH3NgGa1/MLxuL+PlQjeEVxAdzT9/wnin4b9Wh3nT+yK6tvUQ3YQWA7+kFC3IsxuUmyX/hC91UyFxf0T+RVaTVXD99MWhvqCh4e+UQTQsdF47m7tafzyAIBW97jbYnUntPZXQQsnFF1cXrxs1gfhxJGusezpl63MNpeGXDoOmgwYMhBHOxdR1ed9O/ZZmpxQC7gAAAD2QZt1SahBbJlMCG///qeEAAADAnvoPXsttVnA/DgRaFdipaOZ/tmaUdHzzCDhUTjDumK/lFgX1gK9iPTzLropHXTOtDzpkKJwbcowkac334v7iwVt0JoSZWMZK8P0+dMlo5qmVZd107up0S3UK9hB8vV/70x+HYEZ7RvsDylsgoME/JJIZl3zJuO/1cqqJRPo8NOzrQhNWSKFKX0EGifN3INlBBMj8OBqBhjUFQi1SDVKojX77HFXNpk2dacB3Hic90kmsyj6ZI+35UoDUVfnpI6fZVTnHtPnlSfVyu9hk0sNNgdv8mkGCpqGgPQFq85HSQlUAX5hAAAA2UGfk0UVLCv/CJoG9uJCg33sikeuHNH3K+m0dHNNhCm3w8MAIvd4rj2WbncyeDV9shQ6MeMUimK2mCgwWdrcjQ3V7CZkD4fgAj5kJpUMZj3RVeAy0qyYJO8vTvI36VkhiIVoATGA2+PQWSer+IGCGt2xA8AB768HTl5T1nrdKzySvp4PDtEoNG34iPRtXCW+I7HBMMt15nXqsJXx8aF4q1u0cHwAhIQ12e4OKcKieuZixc0cct9LeUPYak2L+u3gZjmctZLAMo0ymCGrUtX9tIWg2CoFtR2AM+AAAACuAZ+ydEJ/CiaKX1lg2x+uiXleJ0Yp8LLJCIHo0G5JV2I9x6gBfIsg/AZYvHz/jswBVqc9ftWH2Q5F4d4ZyiNyf4AjwGDWqk07T29f+bb445X+mBN33BCUakCkNq9EpANGMNkcPyBKJxdLFetH//a4afsAOJ2y0tzDefeH9Q8rULxi1BJeg3XGtZetjgpSbMu3L/SDfIw8KtucHhgA5gWOpjAkGplld9R0wgFh8LuAAAAAdgGftGpCfwo3Ml+6SDS494aZNbdyWMJROZt5hEculW78kUXSv3Kn0VyDwAJfFNBjJZbHJlJ0OZKqOnWoVzb62rXPaSc1LZv41Il9/smXD5qfdSKucPkzNqWA8V4hr6w0hJrfBR/SSgAG7ZfaovjPiZdwhGQgZUEAAADTQZu4SahBbJlMCG///qeEAAADAn/Mu0c3tNXp2XTpUL+x1CpL3YOAEWhWDFOBS0LccOzj7Mqknr2sS38qgtaiQZ2JJKhIOPE8eeIWrQTyHXqu96b+itXTxSgLE1Y+fhmPVToY1P+pCUTF6O3xze4nuWWqg0iRxJ1LKevUdPJYxflyobn3lRduDVpfkJ5BpR2CHA5lMY0mA6sLXjo9JFT0Dv9c5htpIWnELD/ojNIzpqeaYDBGv2EziG/ej9mq1X+UktvwVvK8aIQ8nSwJar8NLHffMAAAAIdBn9ZFFSwr/wiaBvbiQoN97IpHrhzR9yvptHRzTYQrTqPyUYdeAI3vZPUDkvQ6hrsAAtn4Vw80qvRBaUNef0Q/75YnuA/I1WXu4Xl//y8ZSyS/TswBVwol+4VKi0wr9T72dIoWd2XAQlH7ujoXT6dCwN0oJrjCf9wLKLPY7zmjtC88/h9mBvUAAAB5AZ/3akJ/CjcyX7pINLj3hpk1t3JYwlEws9FNbnnrcGYxOsBmP6JLJ7hPy7QTUfh9ACrRo3OZp5pm/xLUWU0jGoyS+y1X9MTvPaQqE6ucBdEpIcxjUnMR1JujSm/8TliZZc4NuFoa93rnN2i7Q11xNkBVdR2/X7xraQAAAUtBm/xJqEFsmUwIb//+p4QAAAMA7Xarfx1lq4AiBXIOqSjkqjEEiiqABHZxyU5A7mRRkAb2FOcW2uMhzh8bsHaXwXcgbWJasj9gH6eHCLrLxCNwxELSPLHHeOevDIv8tyvEeFurXgtNayKHK8N2fr3N5H66P8/bOV5caz3djEdP+QNUcffiQWcDfJX0JBrOLRwMpycZm7+gp/VHXKFZGY6wAYTopxFMPZZLVKqjqU4W18B/WhJwqYnaRu/+JA9XpiHWmvHjE6OkZx0CyESoZwYOkujxTDyVZ2WxL/XQ7FAgPvCeRm26v/yx22wW9guQBXzOSeJVySoYQfmBn2vGAxMc1Yd7/Su7M7U8qgF5v6pNVU8gebc6NXfO81Sz3CZK+7Uk0D/xyX4aeNWMyeQCot85yps3basiYhDteLBOfnHPG5BTPTK1T3pRlLcfAAAA2EGeGkUVLCv/CJoG9uJCg33sikeuHNH3K+m0dHNNg3wcwNqY2/WbZNMhFosAdE0/64F7sngAXF/cvmeHosaRta1FkeqXYB0+JSkJ6uya2RIV/tTyclraBQRx0enl7QKEGMME24nKQdNG0Qs3gxq0X461B9fQg9dAbvU52M/q7+w896qeYkhbDJbqBNIEWVC51amG2rwbaWkmEa2dt2bxpI9JQLIjYYN45kCgwzm0fW9AjA3fFs34ACvVZqGULEKoVcOf47VbcwzgHLMZxU3o6hTIJxI2wnnSYQAAAJwBnjl0Qn8KJopfWWDbH66JeV4nRinwsqcgbhHILUNgaUmvOjwAmXI/v/Mqz0srVTv0uUypW74vR4XnsFHDYNPEdr8EP0TfHnRlvtLEn/Et3VvyymVwYIDI7jYDpX/KLac15SznJOJrwAs0FCFMpXK1c9o0fJmHFelAw6OlkL8SwThavY10Paii7U40BwJ0b+U0t4FbqDqttq0JeS8AAACzAZ47akJ/CjcyX7pINLj3hpk1t3JYwlEws9BxifI8A8J4PNMoAh7tl3ZFsZ2G3Md75cFQCakRwyP068LSQhAT6rpegjYy0PrDuladPi7LQDeNZcZPkwTepUadxjcpbaTdx8QV4zEyDlrvoINjoQS4OT4YGhdV5jsp4PnAMQhHd+HdKvoNlPBnncQZ4Ycnj77UH5siJdu1OdrNvryr8IfP8OA52aLTXmxx9I7+MbH/pT0BpMEAAAEqQZogSahBbJlMCG///qeEAAADAO0vIsyOaABGQGHJ5Lelw9ojd7Jz5wc2u5lXnl0eL8LBpN60CPom+LDTP3qnptBwQarbNw/WJs59cLqNY6JvLXn9VVu24D97AELhsVzjihTqfEmU1bjQCWfsUOlC7ZU41zL4aK4reFZd1/Dl/Am2M6k8SJwokpQhb1jkj3djvY9IDZFn3MlZbX1Eo1gsf1u2cmHNvQwiQjxbBwW8SIeCWRUFjEp8k/zCNP6n/jRlPZPTDT55KgUGoe6Pd+TKX4++FmNBDouOTG6tzWBZWu4ocKZzMxD5n7Cp+to/XbF4i5mIjd/XONELe4VfRZnVHBK0BF1M2ljaYMkO5rY7uJmhs8jYjXShkSaAIdU9GjUwv8bB81+5nsboIQAAAIxBnl5FFSwr/wiaBvbiQoN97IpHrhzR9yvptHRzTYN8HNKzOrHADVgYgJVnoUhtuHs6V4d13ug+6ExvGonvj81zzcmxrJfkpoQlaRORz1PKt/lz3H1wMQPKLKfF5Qi30SzPD27Kf6VO+HEFmoszkE7Ov0cHDMQtaU/rpNkVWvXMo2i6/PpHJazCFGkCTgAAALABnn10Qn8KJopfWWDbH66JeV4nRinwsqcgXFXUCQuU0cJ8OsAF+JrjtLLmwxnJ/avD0FQLzcKz3f8kCl+SEwBuvsOEf6rNGjXBhloiY7wrDTvDwn32z1nQvQtBMYECZrOTKd+NNRHLswseu2kN40Dk2740KduE7qhBThjNrwip3S3QO+lHW2SXw/szu4slR2/CH5jLw6k/Ye5Ape43HqPK1Q987RGBLcCVP8JHPx4ScAAAAHUBnn9qQn8KNzJfukg0uPeGmTW3cljCUTCzwfF97fIF7Fno6+PMEJ3EQAThQ6oNbIR69nY5ww1kRtZblDulj26yXjk1M6/Wi4ng2+iuVG2Q2jI8hEufwtbeVKP7FTHpHJYBW92bSe4JZw9xIC82BJEZijRsGVEAAAEWQZpkSahBbJlMCG///qeEAAADAO5wnmSxAbFuNRRItx+ujNNrI3H25QPLogsfINYMSEn21nH5Nf6k8N/NkdfXSYqa9bUUfpj27v/PLmkf4KM/SPFlM2vQ4hUwAJ1+bZj1zYc36tt9adBZf9fgplamijOM2LpiwF6GOjX8t0tWOn2j26pS91c5GqaOBjxg82kGRvvla2l2Nj0yTQABGF2IkOeTx692iU4IzH8vlAr1HZGovCHNU/tLzWJ/BwsCt9kvXTRClgMo+hFceU61Hqva0Pu849UMbecd7O3bvy5WQvP2zC7oe4t6GOhQcJ6OLb9Qt8XNK58QAHKGJ3hq5g7saz5jIyynDutgAk35AaMMcS3CbSeEqoAAAACrQZ6CRRUsK/8Imgb24kKDfeyKR64c0fcr6bR0c02DfBxw2YaELb1wUjEd5ugAm4e7EhpV+zOM4gXCh1/vF0MAQbp8DY8DMQcqQfQkWaGz6BJ8lDju/E591nvW/5vArMgi4xhDkiHx2CJt4/wKisY9c27lOMi97rlNFxYgoDfqj75swPKvhVJk/mBGZbkDU4wdovo/4IeYkHlJu4lgISxvZ7j2EkxPXB/+7BDxAAAAbwGeoXRCfwomil9ZYNsfrol5XidGKfCypyAQUUKB8J6R0+rrPFTtCt2xS5UEQAl8+wEPYye9LUZcnCDyQe6Rpa72tzav/rMQhgJsTW7b7WBsNacnFT/3GDF7A0PRIHIqpAwIOTfFPIAENottMgBRQAAAAJEBnqNqQn8KNzJfukg0uPeGmTW3cljCUTCzwSXHjGisjAJG234M4nXCAA43kUnkyLbDgojFt7O5PSNy3bogsLK1eFwTopZ6I9jRqTaBgR6Crae07w4G4tz6ZZJNSb5EVRqunfEcOSj80/bYmghFxlfMQCjav+E3NL69wiqXrBco8W08Gt/adNVzfnDWGQAMugGfAAAA8UGaqEmoQWyZTAhv//6nhAAAAwBa1ftW/NF1a4AbsFbUD2kXQ39aZMwdQ4qmSLRlS9QZ2/+LY9XNeEjMdMmMbJaCP/r0oLqZZHfKrHPuhE932HI7sdeoz99JjTE4t+hPo628MauE8HDAbS9Nyj8OpLzz++6lqiSC0wez5q9YI8e9PmCQ3+tKgVYfzlayH+qSx0OrLXClXX1oSMCtn3PXLf5D/yMokZHWnm2tyYCCDQKMhkBcipzTtZz91k1H/XfwhP8CqzmDYDKebIaaKGV/GgytExBWGvpgEYeSf84lkJkSNNLYh/LDKRJASYulAmQWu4EAAACcQZ7GRRUsK/8Imgb24kKDfeyKR64c0fcr6bR0c02DfAbEnmx/HNsK0whuHSlRWAL8VAseUSM4Z1fDcilcAQ6P5CNtWJBPA4MIARy64t2CNGBzzlCpUS4JmzV6wvaS5HsdkT7X6PTOG63KEye5Y6KAWfhYpiLlSMRYGbXoDiS81e596eGpPtaTzXlNv9yAU+rIVXJB9XuhJDWUoKmBAAAAcQGe5XRCfwomil9ZYNsfrol5XidGKfCypxgPLv72VRpEXKuADj0E7lvLMgYxtERj0muOws3kUxS00wERt2okfoDw/giqvKqrOw+mmLuCUf1YXt4JqtaZfY0TqD2xQkVQ671Mjhtv1+Uw8hXxR48XngEzAAAAlwGe52pCfwo3Ml+6SDS494aZNbdyWMJRMLH7K+xGMg7mofEYe9K+VLX8thiQz+FcAESIwYqoBnZpGcNS8C/sD5gS29p4wS6WhQdy/RGkeiKD6KEUCJKFTSmznKVyirWFKHYo9Kk58UIB+7Ek7OBry/xl6u7dMqxF3dkVkA7t67SfXyoMitd+ZkO1pfI38rClDooH4Ar7Az4AAADSQZrrSahBbJlMCG///qeEAAADAFrtrG3U4gJtf6DQCEkQXr0pRrAEN4mjpIQ5UICOxVQhDFYuqS3ozPIGGzUAA+OvBZXocHH7bvGLy6t5+sZc7mSNi/0GU+VC1UK+xLIw+qPpc0vupkjruZbI1x3yrGXKtSgzvGl5ADV7GHR1wGdFZh9Ovqd+aaFaX3J44ICf/q+fVfbDua4ouWjp2HejmojPWfnREELHbrrt3Y/Ez6rWqsJMVXwg7p3AlzLL8qQPzKciPBUF5nprNFnGqMRhSH2gAAAAeUGfCUUVLCv/CJoG9uJCg33sikeuHNH3K+m0dHNNg3wGsIV85VYUBE2Ana3GI2xI83uOssB3beIgA+hf6VJgCHmbnsHWEP5+edfxImGPTrDxR9tx55oRvqOPqS0g+Qlk4aXsUOXo1OGIBBqhrZjPXpdFASx4UKh3AlcAAABiAZ8qakJ/CjcyX7pINLj3hpk1t3JYwlEwsfs37fpSRTowGWAr3iPHVOjTGD+perACKbXlqlht9rxAp20Xk1lCha7mZgHlUD4gpn6Tvzz6VgBZMvNldVwEnMrPiJJlHYBUJuAAAAD9QZsvSahBbJlMCG///qeEAAADAFrtrHA744JAETRLrLly669T4dV+LmBz5An/gKoA10146tQ/1usalU2GeBfSkqGAe46y+MF2Ox13QCnKs9OsK2nv5Y+X1C7HaHQCl3H9fJwdt6PbLiYtwl5Un5rPCMILXioeEw213hy9rgNUj62srPAeUTQfjlVAt+PBsyJJNVSS5ZCNmOKQZFOllQQzeiP//3rxX2GCAmg3+Sj3HGJYrctYevz36S6T9ExlilnmP7gdRF61tFme2WgelCQq1NfkxeAtllcdEYh88axXJv8Ku7Rbt3szX4rYC+KmggF/TBG5o4lqIqqWtBrrswAAAIJBn01FFSwr/wiaBvbiQoN97IpHrhzR9yvptHRzTYN8BukIYFixykAH6AeCKwuGtpXAuFVEpuNT+L9wxkmSE6Cn4HTQSlhDbamvi+2hkVBeGlos+p1VGosz/TjKtwTOvoeMbyNu1M/ehRekqxO4/7WL/AugMd+seYMa409dFwS0CALbAAAAbQGfbHRCfwomil9ZYNsfrol5XidGKfCypxgeE3Uvx07fRdJW/emSfJ8VgBOlGJXHVBW/fbvGivz7bYAVUOGKJqOwfi1fB3DGlECYwI9gxEP0zMz855P3MbaHyF+ne/u1sYO5Rpy8cDQH9AIAqYEAAABtAZ9uakJ/CjcyX7pINLj3hpk1t3JYwlEwsf5+dx5PQ0dD5n/aOAwgAcXRHqKyboAE7dvSvonrST2EipbV8tbUmr/de/GYGQa8YoItbiRdDouxX4082gC+Z/nsOYFLluG9xM7zJY05lKixReABMwAAAMdBm3NJqEFsmUwIb//+p4QAAAMAWz+RhDeOfkYcxxLeQPjqkRwl9qb4Ne3pGI5HvhBE6dOrlVW73xbEUJtviJXMcHtgmyHMd7pQ9Jj44zCqf++3FI4Vvf55Xy1lIwpFk2dRyXZlb7gYD52St4XgEgOZUJ97IbJZ+O38BJycylj6xQd7PvH47H8/yW5ylfOB8FW2cC/NhZaMHBUugRkPeAz+ZEg530XmxJHKdmXyfZXwKC3Ktz0Q5iAggwJO6GcO/8JQht7zqWDAAAAAf0GfkUUVLCv/CJoG9uJCg33sikeuHNH3K+m0dHNNg3wG0V9FR97ABRAdKbkSfyLE0h0DDB3VBP8A1FZlH5cHKfePDz0AK4j0qB89WACy9s5XPk3SAc02caI5PnXOWQ9M7QWY+4lQxv/uZwOWRXoY3Xg+03Lj0tElwHj/NZKvgYEAAABwAZ+wdEJ/CiaKX1lg2x+uiXleJ0Yp8LKnGB4TdaRXgAKu2vZ9IPhq/Pr42QNswX+BPcqwRvLt8j5usZ2lGfzbsaypFeQzCL1Ze80bIN76MNN1rWjEh9zUXKK/GarHNXgEu8L+6a+stqn1s1JMpACpgQAAAGoBn7JqQn8KNzJfukg0uPeGmTW3cljCUTCx/nuVUbNkTpjUZfZTD2oyuTTEx/KxWBPRN3VUgALp00E92D+LMnw+VKp/VsGCC7X/Orbe1Gr/5+Y5AfmlMU77m4gT3AtpKTZvj+ewKchXUCPgAAAAkUGbt0moQWyZTAhv//6nhAAAAwBbOZXUKf+v0UqQgm3NvFHx5onhWdifbSABHuj3LWrVnpBiAU+ukgR4okkM813DW2xIAUUuxMoVBeZaaqZBMbz0169//fi4nKQWYj9+wMmqWdSydzZoRvE8SAogqudHrPyPi8soXm4ZAoC9qC8hUs3hMPNMiJPW23QOuKfGWDAAAACtQZ/VRRUsK/8Imgb24kKDfeyKR64c0fcr6bR0c02DfAbQMpF0xsXKFRI847fUJX0IYI8SH6uN3YSzfDYkfAEe4vIE2H8OEutnLhTZO3LzPXiu1vi1n+nHT4RHDsiP6oXvUH/jsb3DmJHXIaweq9ztJDNUI8bufLL5VqHTh1gFuXpEbhi6jmv0NDCkQ3RTRV6hV+9uOlP+0KfAk21ZpZtfrfjYz12129SaS6DAAbMAAABRAZ/0dEJ/CiaKX1lg2x+uiXleJ0Yp8LKnGB1fkx5Q9NBZMQmzhdqg4cvRQQsQzJwN84ALqAew6Xaf1zgCiSCapnuLKNMgKqTOQIDdqGB5AAz4AAAAewGf9mpCfwo3Ml+6SDS494aZNbdyWMJRMLH+Vt9VcABowXZR6kuNnQAlWFqKw2fI2SaBpjnAbncKUR6Hf1zEGCN+HybI//Yf6bKyiB20tUT0MoQIE4jdANxdnn4ZzXiWzQIPtwS7X6jiTYnFvaHTscjqIluWMC7NDIAZ8QAAAJRBm/tJqEFsmUwIb//+p4QAAAMAJKX5xAJEFY5d/XI75u7WIP89302yCDTFAPEzMepLU1P5zqwh+Qu5kxXJRA3/porhRUW3Yg0lLFw/pR07g/XFFL/ZlbRU2O1HsL5aDi0V7KbCKvdzccobC5aorcLg0LuSf8oexqr6vMQUjrBKqqSgH+5MHx7l0BCwqPR8EfJvt8ZhAAAAXUGeGUUVLCv/CJoG9uJCg33sikeuHNH3K+m0dHNNg3wG0DKKV9m0gucRsZy0sA3wi06HkZRolyvv8LByizACmnYm2TZlZeF5dqoq9IJxLXhaYQJjFTOH54/11aAb8AAAAFwBnjh0Qn8KJopfWWDbH66JeV4nRinwsqcYHVyzG+qoEuthSvRGPBFgAcbhuzr38hQbr34td1uFl+/NDLmYV6SXYjG17lhIIKOHaYZTDo1KWTyWyMs8hgZu3oAI2QAAAFYBnjpqQn8KNzJfukg0uPeGmTW3cljCUTCx/lblVyTJQACcSLUNE9kwcG8R1hYu1OXkmaXuatbi4mR6OX+A+ZdM02dErP/7RQM1AEk3Fs6l4Id91GAEXAAAAIdBmj9JqEFsmUwIb//+p4QAAAMAIt03sQdw04efrh1phjvBsJr86hEsagwm6fv914EVOSqY0JzfO1GK+UzdPCoCtOVWJPlovEGj4bkKjZ+lKv3HdARmansbel/t3BeuI92Wza+ZaLEusr7ITT//6s89xNL/f5uRbipS9jjOK48tDbGDYoeVJuEAAABsQZ5dRRUsK/8Imgb24kKDfeyKR64c0fcr6bR0c02DfAbQKCsLr5IEetFRkOUPuLkHzGTFkiMcSy3H08dzGhLmzxnbF+nhcgWH/jxgAqTzgHodgcbNLFWXNxv39saHBg4AAzSmPgjmczeH7AJfAAAAZwGefHRCfwomil9ZYNsfrol5XidGKfCypxgdXLy5ucsLRKeDHShmrlSf23KAA/dLudg4ftj2xia2hbp1bgCF3LtIDwy/Qm6s8wL09tPiYhx3AjLpJplqq3Nq7mMdg8ebNoItIYWoAZ8AAABiAZ5+akJ/CjcyX7pINLj3hpk1t3JYwlEwsf5W4pNBjfjhykcB9uhy6lgASx00Q5DQ3ANRpjGXQ1WYynnRqB7jvtYNukgs7W3Mumwzl4gVyO6cYaw/bBSdxb2yVz4vUczAEPAAAACPQZpjSahBbJlMCG///qeEAAADACGqvbsrgCImBcTV0qfqOr9X77SA3i11Erv9OKqV1hKISZPkdWYckhZF4c+TcLQ7TUF1b4Gq42Cf6OFfx2z4hLq0rlQiROCGePoZ6RB+nk0HR2Q9FKHV7TxdjOGw4hJ38oOlkrgdPBlkMuH+z+4iAt2FgIHIe//2DMz1USUAAAB5QZ6BRRUsK/8Imgb24kKDfeyKR64c0fcr6bR0c02DfAbQJ4uY7A/cIAPmWHbJSN4kF0OhohWIBeshNm1blKueifZ9ugAGhBAPybub7BkOucwccd26Zh0iw/gCVGmbVMhArfO8j7cRbInTlSR1tIN1d//YqtrqjcBSQAAAAGsBnqB0Qn8KJopfWWDbH66JeV4nRinwsqcYHVyzG+zrgYkVFM3BGTuAATtwvlr0Ytd7NYRc4NNGudR1G1HJJVtTr7EaI8WhidKN8+prgvVC65PN8tgEkydIrEJ49uD85HMNfjo8sjQuHHAHtQAAAGcBnqJqQn8KNzJfukg0uPeGmTW3cljCUTCx/lbik0HpOfXyk84E9Ov22voAPWe62AfM6aqrAxq5Lc+iGc3zHrRzAIR+xauyNM5vdV18RKC/wlzhgbSRumzRGppbzJKcbT7M5CadYAmYAAAAikGap0moQWyZTAhv//6nhAAAAwAhvaJ4nvQ95fl9jKYKjUMItOihaU/Z1qBke0QkY5q/tEgBa+Q1mCMf3Uy8aTODKlSYH06t/h9BjLLBwvZJdBf2N0twnkE2CMWpRRY4DdKGQxik4cCgufECm7vbJmkDVT6/AQX8y6IdPIhC6pFVN3Pt5e11zV4z8wAAAGNBnsVFFSwr/wiaBvbiQoN97IpHrhzR9yvptHRzTYN8BtAnpRyG7l7x6Hyoz4bJygLlUUlcTmMlwANkvURx7gAKfrp2vRj87/6ISlRD3LwqC69UtGr2/1HZHJwyL5+wYDYQAssAAABnAZ7kdEJ/CiaKX1lg2x+uiXleJ0Yp8LKnGB1csxv24VJHKI8lT8eeg1W9tACasiXqVZibn2CZV7l3CZ6f6ANk6MLj4nwbCEAttIi1C/WwyymmZSm2aFouWgJa+ITuJIDr2SCeoAAz4QAAAFgBnuZqQn8KNzJfukg0uPeGmTW3cljCUTCx/lblXMvTHCaewM/aZJK2qndmMJxEAE7cRDYxA4/ahhZk0VbyHuwzwAAnF1iHyR9TfisaXlM5UbigtVBoQDUhAAAA00Ga60moQWyZTAhv//6nhAAAAwAh390iOMYJ6vgyoMSJ+oOUo7PwbEyNDfC5HpsBSy4Rr672dOQqFofA/DdE0HKO1i7Q8da2PsKi9s7v2R3XyQ45J07JiyVo+97na1x3RcFkXx5R8VxfSUUoWv/1ilFiw+E6LgpRUcxZyCrY+O9mRL9LZdYW7W2/2JUgzPSq3GW8OzZPKpDZyJ/Eci/so6n0KgcfvN9OT0AUinZHKMgGrLIh5Yp6y7qITt9z1KcdFia8aD/PQiJM+HzqDbXxyenaBlwAAAByQZ8JRRUsK/8Imgb24kKDfeyKR64c0fcr6bR0c02DfAbQKCrDC0G88PVR4QD3TZswBiu1cU0OoYAFiSInpAehXVINwjrQz+wCE8yjFU2xfqCwItiGNaPYCUVJvHED5KtebL3V6SYBGL2SQEITa+IjAKCAAAAAPAGfKHRCfwomil9ZYNsfrol5XidGKfCypxgdXLMcEIi+Qm6CK5SC0LocjRTLFydNdayZhPFhdSp/0QcQ8QAAAG0BnypqQn8KNzJfukg0uPeGmTW3cljCUTCx/lbOaP7JsAaJ6Nzjv/ungKunLaH6FJqhrujoIrCdNz1erHS+nPbZL+aZKFZxD2xi9KHc+V2KtfDt5dkhtdPN4yF+jqmNpuxoSXEICIRmjazLlQZ8AAAAzUGbL0moQWyZTAhv//6nhAAAAwAh3Te1EJ+j2efpJ/RQ8zRsuUe52ADZuNj8ZhmPE9S4uvxlvkQy6YBOlX9h7dO9OQti5bD/VMN+eBJFQUL1TAiPBux85KBhS6vI63isEjQLrdjP1eVzZwzvgjrCPxmBLHofUp5zhISfMRU8aosMwETPpn6aEfxrI+IbXEsqzPZjojcmq36o/N13ofHbUjeC42jYcFlzsbnKX8uOfjj2jdpjz2VXHyXpCu7T7HgNGp9wwVJkxFnRavjiyggAAAB9QZ9NRRUsK/8Imgb24kKDfeyKR64c0fcr6bR0c02DfAbQJ69p3n3z2CdLoq6Hr7P4PnRP7wAC5+i5SAMDJAEtpNm1S766AqfoNqQQCNo9ZO2FUQbOUuED5wgu3od3PbVR1jYb7/vBm43cb3bnHJgFhbHGvswf44DpnphVhD0AAABhAZ9sdEJ/CiaKX1lg2x+uiXleJ0Yp8LKnGB1ckY8j1v8vIhVonY394YKRlw+9lnSaesO/3Jjo4AL5HDc4st9GP+41arAgbTzwQmz7COwh0IP83LW1/E2NbTaGKLhTBudBgQAAAEsBn25qQn8KNzJfukg0uPeGmTW3cljCUTCx/lPVSx3kgA++aD/PwGoHjJLoRlgOn89GbOCai28e1t/NL8Tt0rhaOuHDSYkdRHCA7oEAAADMQZtySahBbJlMCG///qeEAAADAA0/9H6Sr1T4BcYgq6nlACjWtBtPdHoOsOw0CqZWYd5U26Rj3BfKNA0+f//7Nkle96oLwzyql3uGKHHKY92g1sOUwdp9FjoZA6xQX3xxLWjTDREXr0DgsFa/WYHNSHn5iglSgm9PgkyZ5nKQe9R52enQVPDXv9SSFVPxkDEDz2jVZndQFl1SsYtdPZpTapg2Y36smWt93T7mnb3+hM5HHCQ7OUbjbD86p65CBLW4ymID6nNIRA1Z7X2UAAAAiUGfkEUVLCv/CJoG9uJCg33sikeuHNH3K+m0dHNNg3wG0CWmHv49mnN9AB+ngs3alVkhbO8TDWfk3c7hlIFqcVLG9YWZWxCXsFsd5uWJBEh6dyqIIph5Y+Nws06aVok11beLkoiU/SL45QzNaIDIzkz6xjei9Nn1QDaXf8Cgv12OAyfal9ycdAz4AAAAgAGfsWpCfwo3Ml+6SDS494aZNbdyWMJRMLH+Vt5+ygDWxV8QXLTzUXUiLIryFja6EQE9hdmwA+wR4G6pD/w4MU4SRuWKccqAd1g7088jHtrLnjG5ZLBot5BFmQP5tjU3eiVRRHDl7DAF3c8DAShnuCNePIy9XMKZ+2F2FDJ4boRdAAABUUGbtkmoQWyZTAhv//6nhAAAAwAhp6tIALAj1uzFeVQtVZFGFRnCSpERfLid9a569+66cxM3h+G6BdzThHG/5DpOalLukdk1CyywX3wZ06XVxUufj0rujWSs3H8uzkZNEgiZDXB1AGRq6gqqMJxHQFb/FVfAM/0jwf9cZOg/DT7K081Ym34ZglLNgsVIzchJT12TbTTYPhULik/IJ5ebVwXLzoOvPMG9nuLzy5o5y8bUmFu9XAJSJZevxCa0HNBgx3wDLSjuUCHs9rQfwh5gVvWb8Jy2bX1AWF83CsOVDRFwm2zJtt1fZsdugA6FuM82CP1G+H1dUo9+PJiJIUe3rxAlVR5yZ+6VFE56wt5H/C1ZZEFf9O+z8v82ayWjwC4iL6FiR8VscQls2forS16IYbHjr91lnMMxgxRx/m20lUMUbM9POeqCHtWCD+CGv144ipoAAAB3QZ/URRUsK/8Imgb24kKDfeyKR64c0fcr6bR0c02DfAbQJ4XF88xSskzRqQbqa1FpyyK6dwA1kTIuA9cefhvcWUjR0z3KOCrjuQ7UYFs6SO9A+/S+aPRfdHnEXfWGhxkb0bkaAldy+PTw4WPN8vRdP5RAukx8RiwAAABeAZ/zdEJ/CiaKX1lg2x+uiXleJ0Yp8LKnGB1PvPbzZwHrqufvZtELu0DUCjuJzrshTYAHI2fezLo474ENfBUV60wZIko8SK/CvljIzpzfKsPkqZH/tl2JT0kUcXC7gQAAAFEBn/VqQn8KNzJfukg0uPeGmTW3cljCUTCx/lbcTlOT6oAJVyNBkDCMPV3xpIP87IDDj3rfLrM+wKjv2mmuHGjapm3ijid3mBJnQ9ktRbURsj4AAAEHQZv6SahBbJlMCG///qeEAAADACSwBqQAc857dFIzHcfCNsbbEoLZPtZHC/5bO/y1a1ut/SGsshSRi7mPHMAFzhlJFC7qtanXqRpxyY515aLE3Me+y6j0dIaCNzenWLR3J3PCbMllW91PMGXKjAvMfZjst+NAFIzdK2VCzdStvcvYWnKyoWYIWbKmwitAPAltydhCE5V3XhVRV6jqYvuJ2KWBbneTYDoVD9S8kMNYJihvNWoNBEMn/PSuA5/+pDFpKlDUBTCnsmRKh93YhqxGUH1vEloNznQo7Bg2J7m2m/RrdVK/6EHjzDo4v1iEUVSCVg9YH7ornYr9O5FTOO5LL3EA8mmrdz8AAABbQZ4YRRUsK/8Imgb24kKDfeyKR64c0fcr6bR0c02DfAbQJ69mXutbrKwALTRKbL8T0w3k6b4PgRwY8Mh9NaTvgwliFSmB+Ut9wBxr/LpwQial4yoVbSAMa14pIQAAADwBnjd0Qn8KJopfWWDbH66JeV4nRinwsqcYHVyRkbj4rriaa6i8zt6dx5k0MAC+Zplg8JuZ2goJ5ww2AYEAAAA2AZ45akJ/CjcyX7pINLj3hpk1t3JYwlEwsf5T4vbGU7gTlFiSbg4aleyWgO7pwWDdERDSmCphAAABAEGaPkmoQWyZTAhv//6nhAAAAwAlpi+QBVz6jSBxNO3eY55iyBZ7F0O8T0dLIlckNVK3QdwqEmxkqbT2XXphE+67uzKMVm6bp4eaF+re664AeFVhyxB/aoxXogG6dvF+Rdo+xHasxn4Y4K10nM2eO7HKM5711e8RaBPbZ0eox3rsEjJbDjQVC2rJArKq1mcywGaOPV13gsdr+/h2Q/RbULFCzKuRmruya5/M7gO4uEUS5Y19zLth4eaHgW0jAdcgpqPRLZdRpgdQFbB19XCvPnBe35VsIT/GDXes8+dMMInoNY0meJbAEn57ITMyVQZ9rIyQsomCKIctQJ+Qt1SWifAAAABKQZ5cRRUsK/8Imgb24kKDfeyKR64c0fcr6bR0c02DfAbQRVu76LlIc51p03cZLhBOCTAEcfubzynVP0/2t/3uK8o4pBR0JBJgqYEAAAA9AZ57dEJ/CiaKX1lg2x+uiXleJ0Yp8LKnGB1rUEj544BNJziwz/Vb9if3NguO+9gNUy+Xt2tRQKbIYyMBxwAAACwBnn1qQn8KNzJfukg0uPeGmTW3cljCUTCx/lnrl+cIe5CKhR1e5EWxNugMCAAAAGBBmmJJqEFsmUwIb//+p4QAAAMADNx4dABvdUGgGiBjAAKSXWiTcomC6DQY8cyvFgEd0uxIGeYizTqFglQEeiCP6bDr4mIR1zdJpFrpJDs1xYVDGxpZ6PXL8avWMvKnyy4AAAA7QZ6ARRUsK/8Imgb24kKDfeyKR64c0fcr6bR0c02DfAbQQNYSZPRpzgAJUXnEncUikKZWUhKxPud2Qd0AAAAoAZ6/dEJ/CiaKX1lg2x+uiXleJ0Yp8LKnGB1rUEbEkaDgsaUATgCNgAAAACsBnqFqQn8KNzJfukg0uPeGmTW3cljCUTCx/lnrmCvTeBE1miaPXuMXAFbBAAAAGkGapkmoQWyZTAhv//6nhAAAAwAAtnxPtiUkAAAAMkGexEUVLCv/CJoG9uJCg33sikeuHNH3K+m0dHNNg3wG0EDWFBijxuDhqNv37RQPgBJxAAAAJQGe43RCfwomil9ZYNsfrol5XidGKfCypxgda1BIxGA/izXQAm8AAAAlAZ7lakJ/CjcyX7pINLj3hpk1t3JYwlEwsf5Z65fg4QthUgBNwQAAABhBmupJqEFsmUwIb//+p4QAAAMAAAMA1IEAAAArQZ8IRRUsK/8Imgb24kKDfeyKR64c0fcr6bR0c02DfAbQQNYSRBw9RbwBLwAAACQBnyd0Qn8KJopfWWDbH66JeV4nRinwsqcYHWtQSMRgP4pYAwIAAAAlAZ8pakJ/CjcyX7pINLj3hpk1t3JYwlEwsf5Z65fg4QthUgBNwQAAABhBmy5JqEFsmUwIb//+p4QAAAMAAAMA1IAAAAArQZ9MRRUsK/8Imgb24kKDfeyKR64c0fcr6bR0c02DfAbQQNYSRBw9RbwBLwAAACQBn2t0Qn8KJopfWWDbH66JeV4nRinwsqcYHWtQSMRgP4pYAwMAAAAlAZ9takJ/CjcyX7pINLj3hpk1t3JYwlEwsf5Z65fg4QthUgBNwQAAABhBm3JJqEFsmUwIb//+p4QAAAMAAAMA1IEAAAArQZ+QRRUsK/8Imgb24kKDfeyKR64c0fcr6bR0c02DfAbQQNYSRBw9RbwBLwAAACQBn690Qn8KJopfWWDbH66JeV4nRinwsqcYHWtQSMRgP4pYAwIAAAAlAZ+xakJ/CjcyX7pINLj3hpk1t3JYwlEwsf5Z65fg4QthUgBNwQAAABdBm7ZJqEFsmUwIZ//+nhAAAAMAAAMDPgAAACtBn9RFFSwr/wiaBvbiQoN97IpHrhzR9yvptHRzTYN8BtBA1hJEHD1FvAEvAAAAJAGf83RCfwomil9ZYNsfrol5XidGKfCypxgda1BIxGA/ilgDAwAAACUBn/VqQn8KNzJfukg0uPeGmTW3cljCUTCx/lnrl+DhC2FSAE3AAAAAF0Gb+kmoQWyZTAhP//3xAAADAAADAB6RAAAAK0GeGEUVLCv/CJoG9uJCg33sikeuHNH3K+m0dHNNg3wG0EDWEkQcPUW8AS8AAAAkAZ43dEJ/CiaKX1lg2x+uiXleJ0Yp8LKnGB1rUEjEYD+KWAMCAAAAJQGeOWpCfwo3Ml+6SDS494aZNbdyWMJRMLH+WeuX4OELYVIATcEAAA0mbW9vdgAAAGxtdmhkAAAAAAAAAAAAAAAAAAAD6AAAHIQAAQAAAQAAAAAAAAAAAAAAAAEAAAAAAAAAAAAAAAAAAAABAAAAAAAAAAAAAAAAAABAAAAAAAAAAAAAAAAAAAAAAAAAAAAAAAAAAAAAAAAAAgAADFB0cmFrAAAAXHRraGQAAAADAAAAAAAAAAAAAAABAAAAAAAAHIQAAAAAAAAAAAAAAAAAAAAAAAEAAAAAAAAAAAAAAAAAAAABAAAAAAAAAAAAAAAAAABAAAAAAmAAAAGQAAAAAAAkZWR0cwAAABxlbHN0AAAAAAAAAAEAAByEAAAEAAABAAAAAAvIbWRpYQAAACBtZGhkAAAAAAAAAAAAAAAAAAA8AAABtgBVxAAAAAAALWhkbHIAAAAAAAAAAHZpZGUAAAAAAAAAAAAAAABWaWRlb0hhbmRsZXIAAAALc21pbmYAAAAUdm1oZAAAAAEAAAAAAAAAAAAAACRkaW5mAAAAHGRyZWYAAAAAAAAAAQAAAAx1cmwgAAAAAQAACzNzdGJsAAAAl3N0c2QAAAAAAAAAAQAAAIdhdmMxAAAAAAAAAAEAAAAAAAAAAAAAAAAAAAAAAmABkABIAAAASAAAAAAAAAABAAAAAAAAAAAAAAAAAAAAAAAAAAAAAAAAAAAAAAAAAAAAGP//AAAAMWF2Y0MBZAAe/+EAGGdkAB6s2UCYM6EAAAMAAQAAAwA8DxYtlgEABmjr48siwAAAABhzdHRzAAAAAAAAAAEAAADbAAACAAAAABRzdHNzAAAAAAAAAAEAAAABAAAGuGN0dHMAAAAAAAAA1QAAAAEAAAQAAAAAAQAACgAAAAABAAAEAAAAAAEAAAAAAAAAAQAAAgAAAAABAAAKAAAAAAEAAAQAAAAAAQAAAAAAAAABAAACAAAAAAEAAAoAAAAAAQAABAAAAAABAAAAAAAAAAEAAAIAAAAAAQAACgAAAAABAAAEAAAAAAEAAAAAAAAAAQAAAgAAAAABAAAKAAAAAAEAAAQAAAAAAQAAAAAAAAABAAACAAAAAAEAAAoAAAAAAQAABAAAAAABAAAAAAAAAAEAAAIAAAAAAQAACAAAAAACAAACAAAAAAEAAAoAAAAAAQAABAAAAAABAAAAAAAAAAEAAAIAAAAAAQAACgAAAAABAAAEAAAAAAEAAAAAAAAAAQAAAgAAAAABAAAKAAAAAAEAAAQAAAAAAQAAAAAAAAABAAACAAAAAAEAAAoAAAAAAQAABAAAAAABAAAAAAAAAAEAAAIAAAAAAQAACgAAAAABAAAEAAAAAAEAAAAAAAAAAQAAAgAAAAABAAAKAAAAAAEAAAQAAAAAAQAAAAAAAAABAAACAAAAAAEAAAoAAAAAAQAABAAAAAABAAAAAAAAAAEAAAIAAAAAAQAACgAAAAABAAAEAAAAAAEAAAAAAAAAAQAAAgAAAAABAAAKAAAAAAEAAAQAAAAAAQAAAAAAAAABAAACAAAAAAEAAAgAAAAAAgAAAgAAAAABAAAKAAAAAAEAAAQAAAAAAQAAAAAAAAABAAACAAAAAAEAAAoAAAAAAQAABAAAAAABAAAAAAAAAAEAAAIAAAAAAQAABgAAAAABAAACAAAAAAEAAAgAAAAAAgAAAgAAAAABAAAKAAAAAAEAAAQAAAAAAQAAAAAAAAABAAACAAAAAAEAAAoAAAAAAQAABAAAAAABAAAAAAAAAAEAAAIAAAAAAQAABgAAAAABAAACAAAAAAEAAAoAAAAAAQAABAAAAAABAAAAAAAAAAEAAAIAAAAAAQAACgAAAAABAAAEAAAAAAEAAAAAAAAAAQAAAgAAAAABAAAKAAAAAAEAAAQAAAAAAQAAAAAAAAABAAACAAAAAAEAAAoAAAAAAQAABAAAAAABAAAAAAAAAAEAAAIAAAAAAQAACgAAAAABAAAEAAAAAAEAAAAAAAAAAQAAAgAAAAABAAAKAAAAAAEAAAQAAAAAAQAAAAAAAAABAAACAAAAAAEAAAoAAAAAAQAABAAAAAABAAAAAAAAAAEAAAIAAAAAAQAACAAAAAACAAACAAAAAAEAAAoAAAAAAQAABAAAAAABAAAAAAAAAAEAAAIAAAAAAQAACgAAAAABAAAEAAAAAAEAAAAAAAAAAQAAAgAAAAABAAAKAAAAAAEAAAQAAAAAAQAAAAAAAAABAAACAAAAAAEAAAoAAAAAAQAABAAAAAABAAAAAAAAAAEAAAIAAAAAAQAACAAAAAACAAACAAAAAAEAAAoAAAAAAQAABAAAAAABAAAAAAAAAAEAAAIAAAAAAQAACgAAAAABAAAEAAAAAAEAAAAAAAAAAQAAAgAAAAABAAAKAAAAAAEAAAQAAAAAAQAAAAAAAAABAAACAAAAAAEAAAoAAAAAAQAABAAAAAABAAAAAAAAAAEAAAIAAAAAAQAACgAAAAABAAAEAAAAAAEAAAAAAAAAAQAAAgAAAAABAAAKAAAAAAEAAAQAAAAAAQAAAAAAAAABAAACAAAAAAEAAAoAAAAAAQAABAAAAAABAAAAAAAAAAEAAAIAAAAAAQAACgAAAAABAAAEAAAAAAEAAAAAAAAAAQAAAgAAAAABAAAKAAAAAAEAAAQAAAAAAQAAAAAAAAABAAACAAAAAAEAAAgAAAAAAgAAAgAAAAABAAAKAAAAAAEAAAQAAAAAAQAAAAAAAAABAAACAAAAAAEAAAoAAAAAAQAABAAAAAABAAAAAAAAAAEAAAIAAAAAAQAACgAAAAABAAAEAAAAAAEAAAAAAAAAAQAAAgAAAAABAAAKAAAAAAEAAAQAAAAAAQAAAAAAAAABAAACAAAAAAEAAAoAAAAAAQAABAAAAAABAAAAAAAAAAEAAAIAAAAAAQAACgAAAAABAAAEAAAAAAEAAAAAAAAAAQAAAgAAAAABAAAKAAAAAAEAAAQAAAAAAQAAAAAAAAABAAACAAAAAAEAAAoAAAAAAQAABAAAAAABAAAAAAAAAAEAAAIAAAAAAQAACgAAAAABAAAEAAAAAAEAAAAAAAAAAQAAAgAAAAABAAAKAAAAAAEAAAQAAAAAAQAAAAAAAAABAAACAAAAABxzdHNjAAAAAAAAAAEAAAABAAAA2wAAAAEAAAOAc3RzegAAAAAAAAAAAAAA2wAACckAAAEgAAAAWAAAAEIAAAA3AAAAgAAAAD0AAAAsAAAAKgAAAFQAAAA9AAAANAAAADgAAACgAAAAQAAAACwAAAA4AAAA9wAAAE0AAAA0AAAAOAAAASMAAABNAAAAQAAAAEYAAAEUAAAAVAAAAFIAAAE+AAAAbAAAAIsAAACCAAABGgAAAJwAAAClAAAAqgAAAT8AAACdAAAAsAAAAJUAAAFiAAAAyAAAALIAAADZAAABGAAAAMEAAADhAAAAugAAAOAAAACfAAAAlwAAAHQAAAD7AAAAjwAAAJIAAACfAAABJgAAAJ0AAACWAAAApQAAAO8AAADUAAAAmgAAAK0AAAEAAAAArQAAAJUAAADcAAAA0AAAALAAAACmAAAA+AAAAJQAAACSAAAAlwAAASAAAACKAAAA0AAAAKAAAACaAAABEAAAAKIAAACjAAAArAAAAPAAAACNAAAAkQAAAKgAAAEmAAAAnwAAASYAAADCAAAAtAAAAKQAAAEMAAAAtgAAAKEAAAC0AAAA9wAAAL4AAACXAAAAhgAAASMAAAChAAAArwAAAJMAAAEBAAAApwAAAKAAAAChAAABTwAAAKoAAADDAAAAygAAAPoAAADdAAAAsgAAAHoAAADXAAAAiwAAAH0AAAFPAAAA3AAAAKAAAAC3AAABLgAAAJAAAAC0AAAAeQAAARoAAACvAAAAcwAAAJUAAAD1AAAAoAAAAHUAAACbAAAA1gAAAH0AAABmAAABAQAAAIYAAABxAAAAcQAAAMsAAACDAAAAdAAAAG4AAACVAAAAsQAAAFUAAAB/AAAAmAAAAGEAAABgAAAAWgAAAIsAAABwAAAAawAAAGYAAACTAAAAfQAAAG8AAABrAAAAjgAAAGcAAABrAAAAXAAAANcAAAB2AAAAQAAAAHEAAADRAAAAgQAAAGUAAABPAAAA0AAAAI0AAACEAAABVQAAAHsAAABiAAAAVQAAAQsAAABfAAAAQAAAADoAAAEEAAAATgAAAEEAAAAwAAAAZAAAAD8AAAAsAAAALwAAAB4AAAA2AAAAKQAAACkAAAAcAAAALwAAACgAAAApAAAAHAAAAC8AAAAoAAAAKQAAABwAAAAvAAAAKAAAACkAAAAbAAAALwAAACgAAAApAAAAGwAAAC8AAAAoAAAAKQAAABRzdGNvAAAAAAAAAAEAAAAwAAAAYnVkdGEAAABabWV0YQAAAAAAAAAhaGRscgAAAAAAAAAAbWRpcmFwcGwAAAAAAAAAAAAAAAAtaWxzdAAAACWpdG9vAAAAHWRhdGEAAAABAAAAAExhdmY1OC4yOS4xMDA=\" type=\"video/mp4\" />\n",
              "             </video>"
            ]
          },
          "metadata": {}
        }
      ]
    }
  ]
}